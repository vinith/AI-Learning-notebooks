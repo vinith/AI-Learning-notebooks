{
 "cells": [
  {
   "cell_type": "code",
   "execution_count": 7,
   "id": "armed-vegetation",
   "metadata": {},
   "outputs": [
    {
     "name": "stdout",
     "output_type": "stream",
     "text": [
      "(60000, 28, 28) (60000,)\n"
     ]
    }
   ],
   "source": [
    "import idx2numpy\n",
    "import numpy as np\n",
    "import matplotlib.pyplot as plt\n",
    "import tensorflow as tf\n",
    "from tensorflow import keras\n",
    "import random as rand\n",
    "np.set_printoptions(suppress=True)\n",
    "\n",
    "x_digit = idx2numpy.convert_from_file('data/train-images-idx3-ubyte')\n",
    "y_digit = idx2numpy.convert_from_file('data/train-labels-idx1-ubyte')\n",
    "\n",
    "print(x_digit.shape, y_digit.shape)"
   ]
  },
  {
   "cell_type": "code",
   "execution_count": 8,
   "id": "disciplinary-oriental",
   "metadata": {},
   "outputs": [
    {
     "name": "stdout",
     "output_type": "stream",
     "text": [
      "(30000, 168, 28) (30000, 6) (2000, 168, 28) (2000, 6)\n"
     ]
    }
   ],
   "source": [
    "### Generate train and test data using mnist set with NUM_SIZE digits\n",
    "NUM_SIZE = 6\n",
    "\n",
    "image_dict = [[] for i in range(10)]\n",
    "for digit,image in zip(y_digit, x_digit):\n",
    "    image_dict[digit].append(image)\n",
    "\n",
    "\n",
    "def gen_test_data(num_data):\n",
    "    x_data, y_data = np.zeros((num_data, NUM_SIZE, 28, 28)), np.zeros((num_data, NUM_SIZE))\n",
    "    for i in range(num_data):\n",
    "        for k in range(NUM_SIZE):\n",
    "            rand_digit = rand.randint(0,9)\n",
    "            rand_img = rand.choice(image_dict[rand_digit])\n",
    "            y_data[i,k] = rand_digit\n",
    "            x_data[i,k] = rand_img\n",
    "    return x_data.reshape(num_data, NUM_SIZE * 28, -1), y_data\n",
    "\n",
    "x_train, y_train = gen_test_data(30000)\n",
    "x_test, y_test = gen_test_data(2000)\n",
    "x_test_check = x_test\n",
    "print(x_train.shape, y_train.shape, x_test.shape, y_test.shape)"
   ]
  },
  {
   "cell_type": "code",
   "execution_count": 9,
   "id": "juvenile-engine",
   "metadata": {},
   "outputs": [
    {
     "name": "stdout",
     "output_type": "stream",
     "text": [
      "(30000, 168, 28) (30000, 6, 10) (2000, 168, 28) (2000, 6, 10)\n",
      "<class 'numpy.ndarray'> <class 'numpy.ndarray'> <class 'numpy.ndarray'> <class 'numpy.ndarray'>\n"
     ]
    }
   ],
   "source": [
    "y_test = tf.one_hot(y_test, 10).numpy()\n",
    "y_train = tf.one_hot(y_train, 10).numpy()\n",
    "print(x_train.shape, y_train.shape, x_test.shape, y_test.shape)\n",
    "print(type(x_train), type(x_test), type(y_train), type(y_test))"
   ]
  },
  {
   "cell_type": "code",
   "execution_count": 86,
   "id": "fixed-focus",
   "metadata": {},
   "outputs": [
    {
     "data": {
      "text/plain": [
       "dtype('float64')"
      ]
     },
     "execution_count": 86,
     "metadata": {},
     "output_type": "execute_result"
    }
   ],
   "source": [
    "x_train.dtype"
   ]
  },
  {
   "cell_type": "code",
   "execution_count": 117,
   "id": "whole-waterproof",
   "metadata": {},
   "outputs": [],
   "source": [
    "input_layer = tf.keras.Input(shape = (NUM_SIZE*28, 28))\n",
    "_ = tf.keras.layers.Flatten()(input_layer) \n",
    "_ = tf.keras.layers.Dense(2048)(_)\n",
    "common_layer = tf.keras.layers.Dense(1024)(_)\n",
    "\n",
    "#One output layer per digit\n",
    "output_layers = {}\n",
    "output_loss_fns = {}\n",
    "output_metrics = {}\n",
    "y_trains = {}\n",
    "y_tests = {}\n",
    "for op_l in range(NUM_SIZE):\n",
    "    layer_name = \"output_digit_\" + str(op_l)\n",
    "    _ = tf.keras.layers.Dense(128)(common_layer)\n",
    "    output_layers[op_l] = tf.keras.layers.Dense(10, activation = 'softmax', name=layer_name)(_)\n",
    "    output_loss_fns[op_l] = tf.keras.losses.CategoricalCrossentropy()\n",
    "    output_metrics[op_l] = 'accuracy'\n",
    "    y_trains[op_l] = y_train[:,op_l,:]\n",
    "    y_tests[op_l] = y_test[:,op_l,:]"
   ]
  },
  {
   "cell_type": "code",
   "execution_count": 118,
   "id": "seven-signature",
   "metadata": {},
   "outputs": [],
   "source": [
    "model = tf.keras.Model(inputs=input_layer, outputs = output_layers, name=\"digit_recognizer\")\n",
    "model.compile(optimizer=\"Adam\",\n",
    "             loss = output_loss_fns,\n",
    "             metrics = ['accuracy'] )\n",
    "#model.summary()"
   ]
  },
  {
   "cell_type": "code",
   "execution_count": null,
   "id": "sublime-chamber",
   "metadata": {},
   "outputs": [
    {
     "name": "stdout",
     "output_type": "stream",
     "text": [
      "Epoch 1/20\n",
      "30/30 [==============================] - 4s 114ms/step - loss: 20.9542 - output_digit_0_loss: 2.5928 - output_digit_1_loss: 4.3988 - output_digit_2_loss: 3.0939 - output_digit_3_loss: 3.2422 - output_digit_4_loss: 4.3043 - output_digit_5_loss: 3.3222 - output_digit_0_accuracy: 0.9604 - output_digit_1_accuracy: 0.9404 - output_digit_2_accuracy: 0.9519 - output_digit_3_accuracy: 0.9502 - output_digit_4_accuracy: 0.9434 - output_digit_5_accuracy: 0.9478\n",
      "Epoch 2/20\n",
      "30/30 [==============================] - 3s 114ms/step - loss: 20.9542 - output_digit_0_loss: 2.5928 - output_digit_1_loss: 4.3988 - output_digit_2_loss: 3.0939 - output_digit_3_loss: 3.2422 - output_digit_4_loss: 4.3043 - output_digit_5_loss: 3.3222 - output_digit_0_accuracy: 0.9604 - output_digit_1_accuracy: 0.9404 - output_digit_2_accuracy: 0.9519 - output_digit_3_accuracy: 0.9502 - output_digit_4_accuracy: 0.9434 - output_digit_5_accuracy: 0.9478\n",
      "Epoch 3/20\n",
      "30/30 [==============================] - 3s 114ms/step - loss: 20.9542 - output_digit_0_loss: 2.5928 - output_digit_1_loss: 4.3988 - output_digit_2_loss: 3.0939 - output_digit_3_loss: 3.2422 - output_digit_4_loss: 4.3043 - output_digit_5_loss: 3.3222 - output_digit_0_accuracy: 0.9604 - output_digit_1_accuracy: 0.9404 - output_digit_2_accuracy: 0.9519 - output_digit_3_accuracy: 0.9502 - output_digit_4_accuracy: 0.9434 - output_digit_5_accuracy: 0.9478\n",
      "Epoch 4/20\n",
      "30/30 [==============================] - 3s 115ms/step - loss: 20.9542 - output_digit_0_loss: 2.5928 - output_digit_1_loss: 4.3988 - output_digit_2_loss: 3.0939 - output_digit_3_loss: 3.2422 - output_digit_4_loss: 4.3043 - output_digit_5_loss: 3.3222 - output_digit_0_accuracy: 0.9604 - output_digit_1_accuracy: 0.9404 - output_digit_2_accuracy: 0.9519 - output_digit_3_accuracy: 0.9502 - output_digit_4_accuracy: 0.9434 - output_digit_5_accuracy: 0.9478\n",
      "Epoch 5/20\n",
      "30/30 [==============================] - 4s 119ms/step - loss: 20.9542 - output_digit_0_loss: 2.5928 - output_digit_1_loss: 4.3988 - output_digit_2_loss: 3.0939 - output_digit_3_loss: 3.2422 - output_digit_4_loss: 4.3043 - output_digit_5_loss: 3.3222 - output_digit_0_accuracy: 0.9604 - output_digit_1_accuracy: 0.9404 - output_digit_2_accuracy: 0.9519 - output_digit_3_accuracy: 0.9502 - output_digit_4_accuracy: 0.9434 - output_digit_5_accuracy: 0.9478\n",
      "Epoch 6/20\n",
      "30/30 [==============================] - 3s 116ms/step - loss: 20.9542 - output_digit_0_loss: 2.5928 - output_digit_1_loss: 4.3988 - output_digit_2_loss: 3.0939 - output_digit_3_loss: 3.2422 - output_digit_4_loss: 4.3043 - output_digit_5_loss: 3.3222 - output_digit_0_accuracy: 0.9604 - output_digit_1_accuracy: 0.9404 - output_digit_2_accuracy: 0.9519 - output_digit_3_accuracy: 0.9502 - output_digit_4_accuracy: 0.9434 - output_digit_5_accuracy: 0.9478\n",
      "Epoch 7/20\n",
      "21/30 [====================>.........] - ETA: 1s - loss: 21.0476 - output_digit_0_loss: 2.6069 - output_digit_1_loss: 4.5028 - output_digit_2_loss: 3.1391 - output_digit_3_loss: 3.2968 - output_digit_4_loss: 4.1642 - output_digit_5_loss: 3.3378 - output_digit_0_accuracy: 0.9602 - output_digit_1_accuracy: 0.9392 - output_digit_2_accuracy: 0.9520 - output_digit_3_accuracy: 0.9493 - output_digit_4_accuracy: 0.9439 - output_digit_5_accuracy: 0.9491"
     ]
    }
   ],
   "source": [
    "model.fit(x = x_train, y = y_trains, epochs=20, batch_size=1000)"
   ]
  },
  {
   "cell_type": "code",
   "execution_count": 120,
   "id": "reflected-apache",
   "metadata": {},
   "outputs": [
    {
     "name": "stdout",
     "output_type": "stream",
     "text": [
      "63/63 [==============================] - 1s 4ms/step - loss: 156.0809 - output_digit_0_loss: 22.2969 - output_digit_1_loss: 27.6887 - output_digit_2_loss: 27.1871 - output_digit_3_loss: 24.0662 - output_digit_4_loss: 28.9264 - output_digit_5_loss: 25.9156 - output_digit_0_accuracy: 0.8675 - output_digit_1_accuracy: 0.8465 - output_digit_2_accuracy: 0.8455 - output_digit_3_accuracy: 0.8525 - output_digit_4_accuracy: 0.8500 - output_digit_5_accuracy: 0.8550\n"
     ]
    },
    {
     "data": {
      "text/plain": [
       "[156.08090209960938,\n",
       " 22.296890258789062,\n",
       " 27.688718795776367,\n",
       " 27.187089920043945,\n",
       " 24.066205978393555,\n",
       " 28.92637062072754,\n",
       " 25.915599822998047,\n",
       " 0.8675000071525574,\n",
       " 0.8464999794960022,\n",
       " 0.8454999923706055,\n",
       " 0.8525000214576721,\n",
       " 0.8500000238418579,\n",
       " 0.8550000190734863]"
      ]
     },
     "execution_count": 120,
     "metadata": {},
     "output_type": "execute_result"
    }
   ],
   "source": [
    "model.evaluate(x=x_test, y=y_tests)"
   ]
  }
 ],
 "metadata": {
  "kernelspec": {
   "display_name": "p38TF",
   "language": "python",
   "name": "p38tf"
  },
  "language_info": {
   "codemirror_mode": {
    "name": "ipython",
    "version": 3
   },
   "file_extension": ".py",
   "mimetype": "text/x-python",
   "name": "python",
   "nbconvert_exporter": "python",
   "pygments_lexer": "ipython3",
   "version": "3.8.6"
  }
 },
 "nbformat": 4,
 "nbformat_minor": 5
}
