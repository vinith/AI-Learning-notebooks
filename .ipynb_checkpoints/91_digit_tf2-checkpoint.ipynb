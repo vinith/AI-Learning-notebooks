{
 "cells": [
  {
   "cell_type": "code",
   "execution_count": 1,
   "id": "armed-vegetation",
   "metadata": {},
   "outputs": [
    {
     "name": "stdout",
     "output_type": "stream",
     "text": [
      "(60000, 28, 28) (60000,)\n"
     ]
    }
   ],
   "source": [
    "import idx2numpy\n",
    "import numpy as np\n",
    "import matplotlib.pyplot as plt\n",
    "import tensorflow as tf\n",
    "from tensorflow import keras\n",
    "import random as rand\n",
    "np.set_printoptions(suppress=True)\n",
    "\n",
    "x_digit = idx2numpy.convert_from_file('data/train-images-idx3-ubyte')\n",
    "y_digit = idx2numpy.convert_from_file('data/train-labels-idx1-ubyte')\n",
    "\n",
    "print(x_digit.shape, y_digit.shape)"
   ]
  },
  {
   "cell_type": "code",
   "execution_count": 47,
   "id": "disciplinary-oriental",
   "metadata": {},
   "outputs": [
    {
     "name": "stdout",
     "output_type": "stream",
     "text": [
      "(100000, 168, 28) (100000, 6) (10000, 168, 28) (10000, 6)\n"
     ]
    }
   ],
   "source": [
    "### Generate train and test data using mnist set with NUM_SIZE digits\n",
    "NUM_SIZE = 6\n",
    "\n",
    "image_dict = [[] for i in range(10)]\n",
    "for digit,image in zip(y_digit, x_digit):\n",
    "    image_dict[digit].append(image)\n",
    "\n",
    "\n",
    "def gen_test_data(num_data):\n",
    "    x_data, y_data = np.zeros((num_data, NUM_SIZE, 28, 28)), np.zeros((num_data, NUM_SIZE))\n",
    "    for i in range(num_data):\n",
    "        for k in range(NUM_SIZE):\n",
    "            rand_digit = rand.randint(0,9)\n",
    "            rand_img = rand.choice(image_dict[rand_digit])\n",
    "            y_data[i,k] = rand_digit\n",
    "            x_data[i,k] = rand_img\n",
    "    return x_data.reshape(num_data, NUM_SIZE * 28, -1), y_data\n",
    "\n",
    "x_train, y_train = gen_test_data(100000)\n",
    "x_test, y_test = gen_test_data(10000)\n",
    "x_test_check = x_test\n",
    "print(x_train.shape, y_train.shape, x_test.shape, y_test.shape)"
   ]
  },
  {
   "cell_type": "code",
   "execution_count": 48,
   "id": "juvenile-engine",
   "metadata": {},
   "outputs": [
    {
     "name": "stdout",
     "output_type": "stream",
     "text": [
      "(100000, 168, 28) (100000, 6, 10) (10000, 168, 28) (10000, 6, 10)\n",
      "<class 'numpy.ndarray'> <class 'numpy.ndarray'> <class 'numpy.ndarray'> <class 'numpy.ndarray'>\n"
     ]
    }
   ],
   "source": [
    "y_test = tf.one_hot(y_test, 10).numpy()\n",
    "y_train = tf.one_hot(y_train, 10).numpy()\n",
    "print(x_train.shape, y_train.shape, x_test.shape, y_test.shape)\n",
    "print(type(x_train), type(x_test), type(y_train), type(y_test))"
   ]
  },
  {
   "cell_type": "code",
   "execution_count": 69,
   "id": "whole-waterproof",
   "metadata": {},
   "outputs": [],
   "source": [
    "input_layer = tf.keras.Input(shape = (NUM_SIZE*28, 28))\n",
    "_ = tf.keras.layers.Flatten()(input_layer) \n",
    "_ = tf.keras.layers.Dense(1024)(_)\n",
    "common_layer = tf.keras.layers.Dropout(rate=0.1)(_)\n",
    "\n",
    "#One output layer per digit\n",
    "output_layers = {}\n",
    "output_loss_fns = {}\n",
    "output_metrics = {}\n",
    "y_trains = {}\n",
    "y_tests = {}\n",
    "for op_l in range(NUM_SIZE):\n",
    "    layer_name = \"output_digit_\" + str(op_l)\n",
    "    output_layers[op_l] = tf.keras.layers.Dense(10, activation = 'softmax', name=layer_name)(common_layer)\n",
    "    output_loss_fns[op_l] = tf.keras.losses.CategoricalCrossentropy()\n",
    "    output_metrics[op_l] = 'accuracy'\n",
    "    y_trains[op_l] = y_train[:,op_l,:]\n",
    "    y_tests[op_l] = y_test[:,op_l,:]"
   ]
  },
  {
   "cell_type": "code",
   "execution_count": 70,
   "id": "seven-signature",
   "metadata": {},
   "outputs": [],
   "source": [
    "model = tf.keras.Model(inputs=input_layer, outputs = output_layers, name=\"digit_recognizer\")\n",
    "model.compile(optimizer=\"adamax\",\n",
    "             loss = output_loss_fns,\n",
    "             metrics = ['accuracy'] )\n",
    "#model.summary()"
   ]
  },
  {
   "cell_type": "code",
   "execution_count": 71,
   "id": "furnished-construction",
   "metadata": {},
   "outputs": [
    {
     "name": "stdout",
     "output_type": "stream",
     "text": [
      "Epoch 1/6\n",
      "100/100 [==============================] - 6s 51ms/step - loss: 1314.7993 - output_digit_0_loss: 273.0893 - output_digit_1_loss: 179.9045 - output_digit_2_loss: 169.9016 - output_digit_3_loss: 227.0377 - output_digit_4_loss: 192.3233 - output_digit_5_loss: 272.5430 - output_digit_0_accuracy: 0.4881 - output_digit_1_accuracy: 0.5061 - output_digit_2_accuracy: 0.5140 - output_digit_3_accuracy: 0.5035 - output_digit_4_accuracy: 0.5110 - output_digit_5_accuracy: 0.5047\n",
      "Epoch 2/6\n",
      "100/100 [==============================] - 5s 51ms/step - loss: 117.0489 - output_digit_0_loss: 20.0166 - output_digit_1_loss: 19.4325 - output_digit_2_loss: 19.0083 - output_digit_3_loss: 19.4390 - output_digit_4_loss: 19.5360 - output_digit_5_loss: 19.6165 - output_digit_0_accuracy: 0.8278 - output_digit_1_accuracy: 0.8288 - output_digit_2_accuracy: 0.8232 - output_digit_3_accuracy: 0.8282 - output_digit_4_accuracy: 0.8238 - output_digit_5_accuracy: 0.8271\n",
      "Epoch 3/6\n",
      "100/100 [==============================] - 5s 52ms/step - loss: 95.3324 - output_digit_0_loss: 16.1511 - output_digit_1_loss: 15.9118 - output_digit_2_loss: 15.7697 - output_digit_3_loss: 15.7734 - output_digit_4_loss: 15.9680 - output_digit_5_loss: 15.7584 - output_digit_0_accuracy: 0.8464 - output_digit_1_accuracy: 0.8451 - output_digit_2_accuracy: 0.8431 - output_digit_3_accuracy: 0.8452 - output_digit_4_accuracy: 0.8435 - output_digit_5_accuracy: 0.8449\n",
      "Epoch 4/6\n",
      "100/100 [==============================] - 6s 56ms/step - loss: 84.0874 - output_digit_0_loss: 14.4873 - output_digit_1_loss: 14.1204 - output_digit_2_loss: 13.4818 - output_digit_3_loss: 13.6411 - output_digit_4_loss: 14.2591 - output_digit_5_loss: 14.0978 - output_digit_0_accuracy: 0.8555 - output_digit_1_accuracy: 0.8562 - output_digit_2_accuracy: 0.8543 - output_digit_3_accuracy: 0.8593 - output_digit_4_accuracy: 0.8520 - output_digit_5_accuracy: 0.8548\n",
      "Epoch 5/6\n",
      "100/100 [==============================] - 6s 57ms/step - loss: 75.8049 - output_digit_0_loss: 12.8557 - output_digit_1_loss: 12.7933 - output_digit_2_loss: 12.4824 - output_digit_3_loss: 12.4540 - output_digit_4_loss: 12.5420 - output_digit_5_loss: 12.6774 - output_digit_0_accuracy: 0.8619 - output_digit_1_accuracy: 0.8639 - output_digit_2_accuracy: 0.8630 - output_digit_3_accuracy: 0.8633 - output_digit_4_accuracy: 0.8630 - output_digit_5_accuracy: 0.8635\n",
      "Epoch 6/6\n",
      "100/100 [==============================] - 6s 60ms/step - loss: 72.1112 - output_digit_0_loss: 12.2031 - output_digit_1_loss: 12.1324 - output_digit_2_loss: 11.6055 - output_digit_3_loss: 11.8652 - output_digit_4_loss: 12.3598 - output_digit_5_loss: 11.9450 - output_digit_0_accuracy: 0.8657 - output_digit_1_accuracy: 0.8678 - output_digit_2_accuracy: 0.8699 - output_digit_3_accuracy: 0.8688 - output_digit_4_accuracy: 0.8640 - output_digit_5_accuracy: 0.8679\n"
     ]
    },
    {
     "data": {
      "text/plain": [
       "<tensorflow.python.keras.callbacks.History at 0x375e45670>"
      ]
     },
     "execution_count": 71,
     "metadata": {},
     "output_type": "execute_result"
    }
   ],
   "source": [
    "model.fit(x = x_train, y = y_trains, epochs=6, batch_size=1000)"
   ]
  },
  {
   "cell_type": "code",
   "execution_count": 72,
   "id": "stupid-civilization",
   "metadata": {},
   "outputs": [
    {
     "name": "stdout",
     "output_type": "stream",
     "text": [
      "313/313 [==============================] - 1s 2ms/step - loss: 60.5581 - output_digit_0_loss: 9.5620 - output_digit_1_loss: 10.1913 - output_digit_2_loss: 10.8529 - output_digit_3_loss: 10.4695 - output_digit_4_loss: 10.1318 - output_digit_5_loss: 9.3505 - output_digit_0_accuracy: 0.8950 - output_digit_1_accuracy: 0.8961 - output_digit_2_accuracy: 0.8892 - output_digit_3_accuracy: 0.8922 - output_digit_4_accuracy: 0.8903 - output_digit_5_accuracy: 0.8949\n"
     ]
    },
    {
     "data": {
      "text/plain": [
       "[60.5580940246582,\n",
       " 9.562010765075684,\n",
       " 10.191309928894043,\n",
       " 10.852937698364258,\n",
       " 10.469547271728516,\n",
       " 10.131752014160156,\n",
       " 9.35052490234375,\n",
       " 0.8949999809265137,\n",
       " 0.8960999846458435,\n",
       " 0.88919997215271,\n",
       " 0.8921999931335449,\n",
       " 0.8902999758720398,\n",
       " 0.8949000239372253]"
      ]
     },
     "execution_count": 72,
     "metadata": {},
     "output_type": "execute_result"
    }
   ],
   "source": [
    "model.evaluate(x=x_test, y=y_tests)"
   ]
  },
  {
   "cell_type": "code",
   "execution_count": null,
   "id": "forced-macro",
   "metadata": {},
   "outputs": [],
   "source": []
  }
 ],
 "metadata": {
  "kernelspec": {
   "display_name": "p38TF",
   "language": "python",
   "name": "p38tf"
  },
  "language_info": {
   "codemirror_mode": {
    "name": "ipython",
    "version": 3
   },
   "file_extension": ".py",
   "mimetype": "text/x-python",
   "name": "python",
   "nbconvert_exporter": "python",
   "pygments_lexer": "ipython3",
   "version": "3.8.6"
  }
 },
 "nbformat": 4,
 "nbformat_minor": 5
}
