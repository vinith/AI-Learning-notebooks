{
 "cells": [
  {
   "cell_type": "code",
   "execution_count": 161,
   "id": "armed-vegetation",
   "metadata": {},
   "outputs": [
    {
     "name": "stdout",
     "output_type": "stream",
     "text": [
      "(60000, 28, 28) (60000,)\n"
     ]
    }
   ],
   "source": [
    "import idx2numpy\n",
    "import numpy as np\n",
    "import matplotlib.pyplot as plt\n",
    "import tensorflow as tf\n",
    "from tensorflow import keras\n",
    "import random as rand\n",
    "np.set_printoptions(suppress=True)\n",
    "\n",
    "x_digit = idx2numpy.convert_from_file('data/train-images-idx3-ubyte')\n",
    "y_digit = idx2numpy.convert_from_file('data/train-labels-idx1-ubyte')\n",
    "\n",
    "print(x_digit.shape, y_digit.shape)"
   ]
  },
  {
   "cell_type": "code",
   "execution_count": 162,
   "id": "disciplinary-oriental",
   "metadata": {},
   "outputs": [
    {
     "name": "stdout",
     "output_type": "stream",
     "text": [
      "(100000, 168, 28) (100000, 6) (10000, 168, 28) (10000, 6)\n"
     ]
    }
   ],
   "source": [
    "### Generate train and test data using mnist set with NUM_SIZE digits\n",
    "NUM_SIZE = 6\n",
    "\n",
    "image_dict = [[] for i in range(10)]\n",
    "for digit,image in zip(y_digit, x_digit):\n",
    "    image_dict[digit].append(image)\n",
    "\n",
    "\n",
    "def gen_test_data(num_data):\n",
    "    x_data, y_data = np.zeros((num_data, NUM_SIZE, 28, 28)), np.zeros((num_data, NUM_SIZE))\n",
    "    for i in range(num_data):\n",
    "        for k in range(NUM_SIZE):\n",
    "            rand_digit = rand.randint(0,9)\n",
    "            rand_img = rand.choice(image_dict[rand_digit])\n",
    "            y_data[i,k] = rand_digit\n",
    "            x_data[i,k] = rand_img\n",
    "    return x_data.reshape(num_data, NUM_SIZE * 28, -1), y_data\n",
    "\n",
    "x_train, y_train = gen_test_data(100000)\n",
    "x_test, y_test = gen_test_data(10000)\n",
    "x_test_check = x_test\n",
    "print(x_train.shape, y_train.shape, x_test.shape, y_test.shape)"
   ]
  },
  {
   "cell_type": "code",
   "execution_count": 163,
   "id": "juvenile-engine",
   "metadata": {},
   "outputs": [
    {
     "name": "stdout",
     "output_type": "stream",
     "text": [
      "(100000, 168, 28) (100000, 6, 10) (10000, 168, 28) (10000, 6, 10)\n",
      "<class 'numpy.ndarray'> <class 'numpy.ndarray'> <class 'numpy.ndarray'> <class 'numpy.ndarray'>\n"
     ]
    }
   ],
   "source": [
    "y_test = tf.one_hot(y_test, 10).numpy()\n",
    "y_train = tf.one_hot(y_train, 10).numpy()\n",
    "print(x_train.shape, y_train.shape, x_test.shape, y_test.shape)\n",
    "print(type(x_train), type(x_test), type(y_train), type(y_test))"
   ]
  },
  {
   "cell_type": "code",
   "execution_count": 176,
   "id": "whole-waterproof",
   "metadata": {},
   "outputs": [],
   "source": [
    "input_layer = tf.keras.Input(shape = (NUM_SIZE*28, 28))\n",
    "_ = tf.keras.layers.Flatten()(input_layer) \n",
    "_ = tf.keras.layers.Dense(4096)(_)\n",
    "_ = tf.keras.layers.Dropout(rate=0.1)(_)\n",
    "common_layer = tf.keras.layers.Dense(1024)(_)\n",
    "\n",
    "#One output layer per digit\n",
    "output_layers = {}\n",
    "output_loss_fns = {}\n",
    "output_metrics = {}\n",
    "y_trains = {}\n",
    "y_tests = {}\n",
    "for op_l in range(NUM_SIZE):\n",
    "    layer_name = \"output_digit_\" + str(op_l)\n",
    "    _ = tf.keras.layers.Dense(512)(common_layer)\n",
    "    output_layers[op_l] = tf.keras.layers.Dense(10, activation = 'softmax', name=layer_name)(_)\n",
    "    output_loss_fns[op_l] = tf.keras.losses.CategoricalCrossentropy()\n",
    "    output_metrics[op_l] = 'accuracy'\n",
    "    y_trains[op_l] = y_train[:,op_l,:]\n",
    "    y_tests[op_l] = y_test[:,op_l,:]"
   ]
  },
  {
   "cell_type": "code",
   "execution_count": 177,
   "id": "seven-signature",
   "metadata": {},
   "outputs": [],
   "source": [
    "model = tf.keras.Model(inputs=input_layer, outputs = output_layers, name=\"digit_recognizer\")\n",
    "model.compile(optimizer=\"Adam\",\n",
    "             loss = output_loss_fns,\n",
    "             metrics = ['accuracy'] )\n",
    "#model.summary()"
   ]
  },
  {
   "cell_type": "code",
   "execution_count": null,
   "id": "cross-redhead",
   "metadata": {},
   "outputs": [
    {
     "name": "stdout",
     "output_type": "stream",
     "text": [
      "Epoch 1/3\n",
      "200/200 [==============================] - 40s 186ms/step - loss: 10501.1774 - output_digit_0_loss: 1957.5518 - output_digit_1_loss: 1682.9938 - output_digit_2_loss: 1707.1506 - output_digit_3_loss: 1729.9518 - output_digit_4_loss: 1729.4393 - output_digit_5_loss: 1694.0899 - output_digit_0_accuracy: 0.5275 - output_digit_1_accuracy: 0.5232 - output_digit_2_accuracy: 0.5368 - output_digit_3_accuracy: 0.5450 - output_digit_4_accuracy: 0.5427 - output_digit_5_accuracy: 0.5494\n",
      "Epoch 2/3\n",
      "141/200 [====================>.........] - ETA: 10s - loss: 191.1585 - output_digit_0_loss: 32.2320 - output_digit_1_loss: 33.1343 - output_digit_2_loss: 32.3089 - output_digit_3_loss: 31.9948 - output_digit_4_loss: 32.4043 - output_digit_5_loss: 29.0842 - output_digit_0_accuracy: 0.8785 - output_digit_1_accuracy: 0.8786 - output_digit_2_accuracy: 0.8766 - output_digit_3_accuracy: 0.8798 - output_digit_4_accuracy: 0.8737 - output_digit_5_accuracy: 0.8835"
     ]
    }
   ],
   "source": [
    "model.fit(x = x_train, y = y_trains, epochs=3, batch_size=500)"
   ]
  },
  {
   "cell_type": "code",
   "execution_count": 172,
   "id": "wireless-percentage",
   "metadata": {},
   "outputs": [
    {
     "name": "stdout",
     "output_type": "stream",
     "text": [
      "313/313 [==============================] - 36s 115ms/step - loss: 147.3889 - output_digit_0_loss: 10.6924 - output_digit_1_loss: 11.6446 - output_digit_2_loss: 11.0336 - output_digit_3_loss: 11.8417 - output_digit_4_loss: 9.9892 - output_digit_5_loss: 11.3214 - output_digit_0_accuracy: 0.8795 - output_digit_1_accuracy: 0.8797 - output_digit_2_accuracy: 0.8841 - output_digit_3_accuracy: 0.8769 - output_digit_4_accuracy: 0.8846 - output_digit_5_accuracy: 0.8817\n"
     ]
    },
    {
     "data": {
      "text/plain": [
       "[147.38893127441406,\n",
       " 10.692400932312012,\n",
       " 11.644603729248047,\n",
       " 11.033641815185547,\n",
       " 11.841721534729004,\n",
       " 9.9891939163208,\n",
       " 11.321382522583008,\n",
       " 0.8794999718666077,\n",
       " 0.8797000050544739,\n",
       " 0.8841000199317932,\n",
       " 0.8769000172615051,\n",
       " 0.8845999836921692,\n",
       " 0.8816999793052673]"
      ]
     },
     "execution_count": 172,
     "metadata": {},
     "output_type": "execute_result"
    }
   ],
   "source": [
    "model.evaluate(x=x_test, y=y_tests)"
   ]
  }
 ],
 "metadata": {
  "kernelspec": {
   "display_name": "p38TF",
   "language": "python",
   "name": "p38tf"
  },
  "language_info": {
   "codemirror_mode": {
    "name": "ipython",
    "version": 3
   },
   "file_extension": ".py",
   "mimetype": "text/x-python",
   "name": "python",
   "nbconvert_exporter": "python",
   "pygments_lexer": "ipython3",
   "version": "3.8.6"
  }
 },
 "nbformat": 4,
 "nbformat_minor": 5
}
