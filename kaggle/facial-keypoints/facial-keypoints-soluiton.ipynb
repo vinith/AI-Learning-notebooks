{
 "cells": [
  {
   "cell_type": "code",
   "execution_count": 5,
   "id": "afraid-consumption",
   "metadata": {},
   "outputs": [],
   "source": [
    "import numpy as np\n",
    "import matplotlib.pyplot as plt\n",
    "import tensorflow as tf\n",
    "import pandas as pd"
   ]
  },
  {
   "cell_type": "code",
   "execution_count": 6,
   "id": "composite-designation",
   "metadata": {},
   "outputs": [
    {
     "name": "stdout",
     "output_type": "stream",
     "text": [
      "sys.version_info(major=3, minor=8, micro=8, releaselevel='final', serial=0)\n",
      "1.2.3\n",
      "2.4.0-rc0\n"
     ]
    }
   ],
   "source": [
    "import sys\n",
    "print(sys.version_info)\n",
    "print(pd.__version__)\n",
    "print(tf.version.VERSION)"
   ]
  },
  {
   "cell_type": "code",
   "execution_count": 7,
   "id": "postal-dispute",
   "metadata": {},
   "outputs": [],
   "source": [
    "split_idx = 1000\n",
    "IMG_DIM = 96"
   ]
  },
  {
   "cell_type": "code",
   "execution_count": 8,
   "id": "manual-dealer",
   "metadata": {},
   "outputs": [
    {
     "name": "stdout",
     "output_type": "stream",
     "text": [
      "<class 'pandas.core.frame.DataFrame'>\n",
      "RangeIndex: 7049 entries, 0 to 7048\n",
      "Data columns (total 31 columns):\n",
      " #   Column                     Non-Null Count  Dtype  \n",
      "---  ------                     --------------  -----  \n",
      " 0   left_eye_center_x          7039 non-null   float64\n",
      " 1   left_eye_center_y          7039 non-null   float64\n",
      " 2   right_eye_center_x         7036 non-null   float64\n",
      " 3   right_eye_center_y         7036 non-null   float64\n",
      " 4   left_eye_inner_corner_x    2271 non-null   float64\n",
      " 5   left_eye_inner_corner_y    2271 non-null   float64\n",
      " 6   left_eye_outer_corner_x    2267 non-null   float64\n",
      " 7   left_eye_outer_corner_y    2267 non-null   float64\n",
      " 8   right_eye_inner_corner_x   2268 non-null   float64\n",
      " 9   right_eye_inner_corner_y   2268 non-null   float64\n",
      " 10  right_eye_outer_corner_x   2268 non-null   float64\n",
      " 11  right_eye_outer_corner_y   2268 non-null   float64\n",
      " 12  left_eyebrow_inner_end_x   2270 non-null   float64\n",
      " 13  left_eyebrow_inner_end_y   2270 non-null   float64\n",
      " 14  left_eyebrow_outer_end_x   2225 non-null   float64\n",
      " 15  left_eyebrow_outer_end_y   2225 non-null   float64\n",
      " 16  right_eyebrow_inner_end_x  2270 non-null   float64\n",
      " 17  right_eyebrow_inner_end_y  2270 non-null   float64\n",
      " 18  right_eyebrow_outer_end_x  2236 non-null   float64\n",
      " 19  right_eyebrow_outer_end_y  2236 non-null   float64\n",
      " 20  nose_tip_x                 7049 non-null   float64\n",
      " 21  nose_tip_y                 7049 non-null   float64\n",
      " 22  mouth_left_corner_x        2269 non-null   float64\n",
      " 23  mouth_left_corner_y        2269 non-null   float64\n",
      " 24  mouth_right_corner_x       2270 non-null   float64\n",
      " 25  mouth_right_corner_y       2270 non-null   float64\n",
      " 26  mouth_center_top_lip_x     2275 non-null   float64\n",
      " 27  mouth_center_top_lip_y     2275 non-null   float64\n",
      " 28  mouth_center_bottom_lip_x  7016 non-null   float64\n",
      " 29  mouth_center_bottom_lip_y  7016 non-null   float64\n",
      " 30  Image                      7049 non-null   object \n",
      "dtypes: float64(30), object(1)\n",
      "memory usage: 1.7+ MB\n",
      "<class 'pandas.core.frame.DataFrame'>\n",
      "RangeIndex: 7049 entries, 0 to 7048\n",
      "Data columns (total 31 columns):\n",
      " #   Column                     Non-Null Count  Dtype  \n",
      "---  ------                     --------------  -----  \n",
      " 0   left_eye_center_x          7049 non-null   float64\n",
      " 1   left_eye_center_y          7049 non-null   float64\n",
      " 2   right_eye_center_x         7049 non-null   float64\n",
      " 3   right_eye_center_y         7049 non-null   float64\n",
      " 4   left_eye_inner_corner_x    7049 non-null   float64\n",
      " 5   left_eye_inner_corner_y    7049 non-null   float64\n",
      " 6   left_eye_outer_corner_x    7049 non-null   float64\n",
      " 7   left_eye_outer_corner_y    7049 non-null   float64\n",
      " 8   right_eye_inner_corner_x   7049 non-null   float64\n",
      " 9   right_eye_inner_corner_y   7049 non-null   float64\n",
      " 10  right_eye_outer_corner_x   7049 non-null   float64\n",
      " 11  right_eye_outer_corner_y   7049 non-null   float64\n",
      " 12  left_eyebrow_inner_end_x   7049 non-null   float64\n",
      " 13  left_eyebrow_inner_end_y   7049 non-null   float64\n",
      " 14  left_eyebrow_outer_end_x   7049 non-null   float64\n",
      " 15  left_eyebrow_outer_end_y   7049 non-null   float64\n",
      " 16  right_eyebrow_inner_end_x  7049 non-null   float64\n",
      " 17  right_eyebrow_inner_end_y  7049 non-null   float64\n",
      " 18  right_eyebrow_outer_end_x  7049 non-null   float64\n",
      " 19  right_eyebrow_outer_end_y  7049 non-null   float64\n",
      " 20  nose_tip_x                 7049 non-null   float64\n",
      " 21  nose_tip_y                 7049 non-null   float64\n",
      " 22  mouth_left_corner_x        7049 non-null   float64\n",
      " 23  mouth_left_corner_y        7049 non-null   float64\n",
      " 24  mouth_right_corner_x       7049 non-null   float64\n",
      " 25  mouth_right_corner_y       7049 non-null   float64\n",
      " 26  mouth_center_top_lip_x     7049 non-null   float64\n",
      " 27  mouth_center_top_lip_y     7049 non-null   float64\n",
      " 28  mouth_center_bottom_lip_x  7049 non-null   float64\n",
      " 29  mouth_center_bottom_lip_y  7049 non-null   float64\n",
      " 30  Image                      7049 non-null   object \n",
      "dtypes: float64(30), object(1)\n",
      "memory usage: 1.7+ MB\n"
     ]
    }
   ],
   "source": [
    "training_df = pd.read_csv('data/training.csv')\n",
    "training_df.info()\n",
    "x_cols =  list(training_df.drop('Image', axis=1).columns)\n",
    "training_df[x_cols] = training_df[x_cols].fillna(training_df[x_cols].mean())\n",
    "training_df.info()"
   ]
  },
  {
   "cell_type": "code",
   "execution_count": 9,
   "id": "packed-copying",
   "metadata": {},
   "outputs": [
    {
     "name": "stdout",
     "output_type": "stream",
     "text": [
      "<class 'pandas.core.frame.DataFrame'>\n",
      "RangeIndex: 7049 entries, 0 to 7048\n",
      "Data columns (total 30 columns):\n",
      " #   Column                     Non-Null Count  Dtype  \n",
      "---  ------                     --------------  -----  \n",
      " 0   left_eye_center_x          7049 non-null   float64\n",
      " 1   left_eye_center_y          7049 non-null   float64\n",
      " 2   right_eye_center_x         7049 non-null   float64\n",
      " 3   right_eye_center_y         7049 non-null   float64\n",
      " 4   left_eye_inner_corner_x    7049 non-null   float64\n",
      " 5   left_eye_inner_corner_y    7049 non-null   float64\n",
      " 6   left_eye_outer_corner_x    7049 non-null   float64\n",
      " 7   left_eye_outer_corner_y    7049 non-null   float64\n",
      " 8   right_eye_inner_corner_x   7049 non-null   float64\n",
      " 9   right_eye_inner_corner_y   7049 non-null   float64\n",
      " 10  right_eye_outer_corner_x   7049 non-null   float64\n",
      " 11  right_eye_outer_corner_y   7049 non-null   float64\n",
      " 12  left_eyebrow_inner_end_x   7049 non-null   float64\n",
      " 13  left_eyebrow_inner_end_y   7049 non-null   float64\n",
      " 14  left_eyebrow_outer_end_x   7049 non-null   float64\n",
      " 15  left_eyebrow_outer_end_y   7049 non-null   float64\n",
      " 16  right_eyebrow_inner_end_x  7049 non-null   float64\n",
      " 17  right_eyebrow_inner_end_y  7049 non-null   float64\n",
      " 18  right_eyebrow_outer_end_x  7049 non-null   float64\n",
      " 19  right_eyebrow_outer_end_y  7049 non-null   float64\n",
      " 20  nose_tip_x                 7049 non-null   float64\n",
      " 21  nose_tip_y                 7049 non-null   float64\n",
      " 22  mouth_left_corner_x        7049 non-null   float64\n",
      " 23  mouth_left_corner_y        7049 non-null   float64\n",
      " 24  mouth_right_corner_x       7049 non-null   float64\n",
      " 25  mouth_right_corner_y       7049 non-null   float64\n",
      " 26  mouth_center_top_lip_x     7049 non-null   float64\n",
      " 27  mouth_center_top_lip_y     7049 non-null   float64\n",
      " 28  mouth_center_bottom_lip_x  7049 non-null   float64\n",
      " 29  mouth_center_bottom_lip_y  7049 non-null   float64\n",
      "dtypes: float64(30)\n",
      "memory usage: 1.6 MB\n"
     ]
    }
   ],
   "source": [
    "training_df.iloc[:,0:30].info()"
   ]
  },
  {
   "cell_type": "code",
   "execution_count": 10,
   "id": "rural-clause",
   "metadata": {},
   "outputs": [
    {
     "name": "stdout",
     "output_type": "stream",
     "text": [
      "(7049, 96, 96) (7049, 30)\n"
     ]
    }
   ],
   "source": [
    "y = training_df.iloc[:,0:30].to_numpy()\n",
    "x = np.array(training_df['Image'].str.split().tolist(), dtype='float').reshape(-1, IMG_DIM,IMG_DIM) / 255.0\n",
    "print(x.shape, y.shape)"
   ]
  },
  {
   "cell_type": "code",
   "execution_count": 11,
   "id": "central-delicious",
   "metadata": {},
   "outputs": [
    {
     "data": {
      "text/plain": [
       "((6049, 96, 96), (6049, 30), (1000, 96, 96), (1000, 30))"
      ]
     },
     "execution_count": 11,
     "metadata": {},
     "output_type": "execute_result"
    }
   ],
   "source": [
    "y_test = y[0:split_idx,:]\n",
    "x_test = x[0:split_idx,:,:]\n",
    "y_train = y[split_idx:,:]\n",
    "x_train = x[split_idx:,:,:]\n",
    "x_train.shape, y_train.shape, x_test.shape, y_test.shape"
   ]
  },
  {
   "cell_type": "code",
   "execution_count": 12,
   "id": "genuine-cargo",
   "metadata": {},
   "outputs": [
    {
     "data": {
      "text/plain": [
       "<matplotlib.image.AxesImage at 0x17599c670>"
      ]
     },
     "execution_count": 12,
     "metadata": {},
     "output_type": "execute_result"
    },
    {
     "data": {
      "image/png": "[encoded data removed]",
      "text/plain": [
       "<Figure size 432x288 with 1 Axes>"
      ]
     },
     "metadata": {
      "needs_background": "light"
     },
     "output_type": "display_data"
    }
   ],
   "source": [
    "rnd = 739\n",
    "plt.imshow(x_train[rnd:rnd+1,:,:].reshape(96,96))"
   ]
  },
  {
   "cell_type": "code",
   "execution_count": 15,
   "id": "southeast-graph",
   "metadata": {},
   "outputs": [],
   "source": [
    "act = 'relu'\n",
    "pad = 'same'\n",
    "strd = 1\n",
    "def create_model():\n",
    "    input_layer = tf.keras.Input(shape = (IMG_DIM, IMG_DIM,1))\n",
    "    _ = tf.keras.layers.Conv2D(filters=32, kernel_size=3, activation = act, padding = pad, strides=1)(input_layer)\n",
    "    _ = tf.keras.layers.BatchNormalization()(_)\n",
    "    _ = tf.keras.layers.Conv2D(filters=32, kernel_size=3, activation = act, padding = pad, strides=strd)(_)\n",
    "    _ = tf.keras.layers.BatchNormalization()(_)\n",
    "    _ = tf.keras.layers.MaxPool2D()(_)\n",
    "    _ = tf.keras.layers.Conv2D(filters=64, kernel_size=3, activation = act, padding = pad, strides = strd)(_)\n",
    "    _ = tf.keras.layers.BatchNormalization()(_)\n",
    "    _ = tf.keras.layers.Conv2D(filters=64, kernel_size=3, activation = act, padding = pad, strides = strd)(_) \n",
    "    _ = tf.keras.layers.BatchNormalization()(_)\n",
    "    _ = tf.keras.layers.MaxPool2D()(_)\n",
    "    _ = tf.keras.layers.Conv2D(filters=128, kernel_size=3, activation = act, padding = pad, strides = strd)(_) \n",
    "    _ = tf.keras.layers.BatchNormalization()(_)\n",
    "    _ = tf.keras.layers.Conv2D(filters=128, kernel_size=3, activation = act, padding = pad, strides = strd)(_)\n",
    "    _ = tf.keras.layers.BatchNormalization()(_)\n",
    "    _ = tf.keras.layers.MaxPool2D()(_)\n",
    "    _ = tf.keras.layers.Conv2D(filters=256, kernel_size=3, activation = act, padding = pad, strides = strd)(_) \n",
    "    _ = tf.keras.layers.BatchNormalization()(_)\n",
    "    _ = tf.keras.layers.Conv2D(filters=256, kernel_size=3, activation = act, padding = pad, strides = strd)(_)\n",
    "    _ = tf.keras.layers.BatchNormalization()(_)\n",
    "    _ = tf.keras.layers.MaxPool2D()(_)\n",
    "    _ = tf.keras.layers.Conv2D(filters=512, kernel_size=3, activation = act, padding = pad, strides = strd)(_) \n",
    "    _ = tf.keras.layers.BatchNormalization()(_)\n",
    "    _ = tf.keras.layers.Conv2D(filters=512, kernel_size=3, activation = act, padding = pad, strides = strd)(_)\n",
    "    _ = tf.keras.layers.BatchNormalization()(_)\n",
    "    _ = tf.keras.layers.MaxPool2D()(_)\n",
    "\n",
    "    common_layer = tf.keras.layers.Flatten()(_)\n",
    "    common_layer = tf.keras.layers.Dense(3000, activation= act)(common_layer)\n",
    "    common_layer = tf.keras.layers.Dense(1000, activation= act)(common_layer)\n",
    "    common_layer = tf.keras.layers.Dense(512, activation= act)(common_layer)\n",
    "    output_layer = tf.keras.layers.Dense(30, name=\"face_landmarks\")(common_layer)\n",
    "    model = tf.keras.Model(inputs=input_layer, outputs = output_layer, name=\"facial-keypoints\")\n",
    "    return model"
   ]
  },
  {
   "cell_type": "code",
   "execution_count": 16,
   "id": "streaming-dispatch",
   "metadata": {},
   "outputs": [
    {
     "name": "stdout",
     "output_type": "stream",
     "text": [
      "Model: \"facial-keypoints\"\n",
      "_________________________________________________________________\n",
      "Layer (type)                 Output Shape              Param #   \n",
      "=================================================================\n",
      "input_2 (InputLayer)         [(None, 96, 96, 1)]       0         \n",
      "_________________________________________________________________\n",
      "conv2d_10 (Conv2D)           (None, 96, 96, 32)        320       \n",
      "_________________________________________________________________\n",
      "batch_normalization_10 (Batc (None, 96, 96, 32)        128       \n",
      "_________________________________________________________________\n",
      "conv2d_11 (Conv2D)           (None, 96, 96, 32)        9248      \n",
      "_________________________________________________________________\n",
      "batch_normalization_11 (Batc (None, 96, 96, 32)        128       \n",
      "_________________________________________________________________\n",
      "max_pooling2d_5 (MaxPooling2 (None, 48, 48, 32)        0         \n",
      "_________________________________________________________________\n",
      "conv2d_12 (Conv2D)           (None, 48, 48, 64)        18496     \n",
      "_________________________________________________________________\n",
      "batch_normalization_12 (Batc (None, 48, 48, 64)        256       \n",
      "_________________________________________________________________\n",
      "conv2d_13 (Conv2D)           (None, 48, 48, 64)        36928     \n",
      "_________________________________________________________________\n",
      "batch_normalization_13 (Batc (None, 48, 48, 64)        256       \n",
      "_________________________________________________________________\n",
      "max_pooling2d_6 (MaxPooling2 (None, 24, 24, 64)        0         \n",
      "_________________________________________________________________\n",
      "conv2d_14 (Conv2D)           (None, 24, 24, 128)       73856     \n",
      "_________________________________________________________________\n",
      "batch_normalization_14 (Batc (None, 24, 24, 128)       512       \n",
      "_________________________________________________________________\n",
      "conv2d_15 (Conv2D)           (None, 24, 24, 128)       147584    \n",
      "_________________________________________________________________\n",
      "batch_normalization_15 (Batc (None, 24, 24, 128)       512       \n",
      "_________________________________________________________________\n",
      "max_pooling2d_7 (MaxPooling2 (None, 12, 12, 128)       0         \n",
      "_________________________________________________________________\n",
      "conv2d_16 (Conv2D)           (None, 12, 12, 256)       295168    \n",
      "_________________________________________________________________\n",
      "batch_normalization_16 (Batc (None, 12, 12, 256)       1024      \n",
      "_________________________________________________________________\n",
      "conv2d_17 (Conv2D)           (None, 12, 12, 256)       590080    \n",
      "_________________________________________________________________\n",
      "batch_normalization_17 (Batc (None, 12, 12, 256)       1024      \n",
      "_________________________________________________________________\n",
      "max_pooling2d_8 (MaxPooling2 (None, 6, 6, 256)         0         \n",
      "_________________________________________________________________\n",
      "conv2d_18 (Conv2D)           (None, 6, 6, 512)         1180160   \n",
      "_________________________________________________________________\n",
      "batch_normalization_18 (Batc (None, 6, 6, 512)         2048      \n",
      "_________________________________________________________________\n",
      "conv2d_19 (Conv2D)           (None, 6, 6, 512)         2359808   \n",
      "_________________________________________________________________\n",
      "batch_normalization_19 (Batc (None, 6, 6, 512)         2048      \n",
      "_________________________________________________________________\n",
      "max_pooling2d_9 (MaxPooling2 (None, 3, 3, 512)         0         \n",
      "_________________________________________________________________\n",
      "flatten_1 (Flatten)          (None, 4608)              0         \n",
      "_________________________________________________________________\n",
      "dense_1 (Dense)              (None, 3000)              13827000  \n",
      "_________________________________________________________________\n",
      "dense_2 (Dense)              (None, 1000)              3001000   \n",
      "_________________________________________________________________\n",
      "dense_3 (Dense)              (None, 512)               512512    \n",
      "_________________________________________________________________\n",
      "face_landmarks (Dense)       (None, 30)                15390     \n",
      "=================================================================\n",
      "Total params: 22,075,486\n",
      "Trainable params: 22,071,518\n",
      "Non-trainable params: 3,968\n",
      "_________________________________________________________________\n"
     ]
    }
   ],
   "source": [
    "model = create_model()\n",
    "model.compile(optimizer='adam', loss='mean_squared_error', metrics=['mae', 'accuracy', tf.keras.metrics.RootMeanSquaredError()])\n",
    "model.summary()"
   ]
  },
  {
   "cell_type": "code",
   "execution_count": 17,
   "id": "hawaiian-adolescent",
   "metadata": {
    "scrolled": false
   },
   "outputs": [
    {
     "name": "stdout",
     "output_type": "stream",
     "text": [
      "Epoch 1/60\n",
      "24/24 [==============================] - 44s 2s/step - loss: 1346.9138 - mae: 28.4337 - accuracy: 0.1719 - root_mean_squared_error: 35.9324\n",
      "Epoch 2/60\n",
      "24/24 [==============================] - 43s 2s/step - loss: 23.3259 - mae: 3.5490 - accuracy: 0.4132 - root_mean_squared_error: 4.8118\n",
      "Epoch 3/60\n",
      "24/24 [==============================] - 44s 2s/step - loss: 10.6912 - mae: 2.2140 - accuracy: 0.5492 - root_mean_squared_error: 3.2687\n",
      "Epoch 4/60\n",
      "24/24 [==============================] - 45s 2s/step - loss: 8.4096 - mae: 1.7898 - accuracy: 0.6136 - root_mean_squared_error: 2.8996\n",
      "Epoch 5/60\n",
      "24/24 [==============================] - 45s 2s/step - loss: 8.1183 - mae: 1.7732 - accuracy: 0.6165 - root_mean_squared_error: 2.8489\n",
      "Epoch 6/60\n",
      "24/24 [==============================] - 48s 2s/step - loss: 9.8525 - mae: 2.1167 - accuracy: 0.6188 - root_mean_squared_error: 3.1353\n",
      "Epoch 7/60\n",
      "24/24 [==============================] - 52s 2s/step - loss: 8.4278 - mae: 1.8216 - accuracy: 0.5922 - root_mean_squared_error: 2.9010\n",
      "Epoch 8/60\n",
      "24/24 [==============================] - 56s 2s/step - loss: 7.9361 - mae: 1.6842 - accuracy: 0.6039 - root_mean_squared_error: 2.8167\n",
      "Epoch 9/60\n",
      "24/24 [==============================] - 58s 2s/step - loss: 7.4255 - mae: 1.5956 - accuracy: 0.6090 - root_mean_squared_error: 2.7246\n",
      "Epoch 10/60\n",
      "24/24 [==============================] - 61s 3s/step - loss: 7.3018 - mae: 1.6145 - accuracy: 0.6300 - root_mean_squared_error: 2.7019\n",
      "Epoch 11/60\n",
      "24/24 [==============================] - 65s 3s/step - loss: 7.2494 - mae: 1.6385 - accuracy: 0.6200 - root_mean_squared_error: 2.6918\n",
      "Epoch 12/60\n",
      "24/24 [==============================] - 68s 3s/step - loss: 7.7874 - mae: 1.7118 - accuracy: 0.6049 - root_mean_squared_error: 2.7884\n",
      "Epoch 13/60\n",
      "24/24 [==============================] - 70s 3s/step - loss: 7.9806 - mae: 1.7978 - accuracy: 0.6279 - root_mean_squared_error: 2.8244\n",
      "Epoch 14/60\n",
      "24/24 [==============================] - 72s 3s/step - loss: 8.3703 - mae: 1.8448 - accuracy: 0.6218 - root_mean_squared_error: 2.8924\n",
      "Epoch 15/60\n",
      "24/24 [==============================] - 73s 3s/step - loss: 7.8360 - mae: 1.7679 - accuracy: 0.6277 - root_mean_squared_error: 2.7983\n",
      "Epoch 16/60\n",
      "24/24 [==============================] - 74s 3s/step - loss: 6.6267 - mae: 1.5001 - accuracy: 0.6148 - root_mean_squared_error: 2.5739\n",
      "Epoch 17/60\n",
      "24/24 [==============================] - 75s 3s/step - loss: 6.6409 - mae: 1.5152 - accuracy: 0.6252 - root_mean_squared_error: 2.5760\n",
      "Epoch 18/60\n",
      "24/24 [==============================] - 75s 3s/step - loss: 7.6275 - mae: 1.7876 - accuracy: 0.6183 - root_mean_squared_error: 2.7605\n",
      "Epoch 19/60\n",
      "24/24 [==============================] - 77s 3s/step - loss: 8.3249 - mae: 1.8754 - accuracy: 0.6121 - root_mean_squared_error: 2.8846\n",
      "Epoch 20/60\n",
      "24/24 [==============================] - 80s 3s/step - loss: 8.3643 - mae: 1.8363 - accuracy: 0.6122 - root_mean_squared_error: 2.8912\n",
      "Epoch 21/60\n",
      "24/24 [==============================] - 78s 3s/step - loss: 7.3876 - mae: 1.6416 - accuracy: 0.6290 - root_mean_squared_error: 2.7176\n",
      "Epoch 22/60\n",
      "24/24 [==============================] - 87s 4s/step - loss: 7.2012 - mae: 1.6667 - accuracy: 0.6274 - root_mean_squared_error: 2.6819\n",
      "Epoch 23/60\n",
      "24/24 [==============================] - 91s 4s/step - loss: 7.6091 - mae: 1.7293 - accuracy: 0.6268 - root_mean_squared_error: 2.7564\n",
      "Epoch 24/60\n",
      "24/24 [==============================] - 77s 3s/step - loss: 8.7325 - mae: 2.0345 - accuracy: 0.6200 - root_mean_squared_error: 2.9543\n",
      "Epoch 25/60\n",
      "24/24 [==============================] - 75s 3s/step - loss: 8.2755 - mae: 1.8572 - accuracy: 0.6293 - root_mean_squared_error: 2.8751\n",
      "Epoch 26/60\n",
      "24/24 [==============================] - 74s 3s/step - loss: 6.7878 - mae: 1.6279 - accuracy: 0.6102 - root_mean_squared_error: 2.6036\n",
      "Epoch 27/60\n",
      "24/24 [==============================] - 73s 3s/step - loss: 6.6371 - mae: 1.5799 - accuracy: 0.6368 - root_mean_squared_error: 2.5760\n",
      "Epoch 28/60\n",
      "24/24 [==============================] - 72s 3s/step - loss: 7.0627 - mae: 1.6384 - accuracy: 0.6093 - root_mean_squared_error: 2.6556\n",
      "Epoch 29/60\n",
      "24/24 [==============================] - 73s 3s/step - loss: 7.6550 - mae: 1.7517 - accuracy: 0.6485 - root_mean_squared_error: 2.7653\n",
      "Epoch 30/60\n",
      "24/24 [==============================] - 72s 3s/step - loss: 6.5660 - mae: 1.5511 - accuracy: 0.6588 - root_mean_squared_error: 2.5617\n",
      "Epoch 31/60\n",
      "24/24 [==============================] - 77s 3s/step - loss: 7.0304 - mae: 1.7180 - accuracy: 0.6443 - root_mean_squared_error: 2.6501\n",
      "Epoch 32/60\n",
      "24/24 [==============================] - 68s 3s/step - loss: 6.5092 - mae: 1.5977 - accuracy: 0.6512 - root_mean_squared_error: 2.5504\n",
      "Epoch 33/60\n",
      "24/24 [==============================] - 76s 3s/step - loss: 6.7570 - mae: 1.6980 - accuracy: 0.6603 - root_mean_squared_error: 2.5985\n",
      "Epoch 34/60\n",
      "24/24 [==============================] - 74s 3s/step - loss: 6.1016 - mae: 1.4857 - accuracy: 0.6566 - root_mean_squared_error: 2.4699\n",
      "Epoch 35/60\n",
      "24/24 [==============================] - 73s 3s/step - loss: 6.1647 - mae: 1.5702 - accuracy: 0.6677 - root_mean_squared_error: 2.4819\n",
      "Epoch 36/60\n",
      "24/24 [==============================] - 72s 3s/step - loss: 6.2989 - mae: 1.5930 - accuracy: 0.6743 - root_mean_squared_error: 2.5089\n",
      "Epoch 37/60\n",
      "24/24 [==============================] - 72s 3s/step - loss: 6.7401 - mae: 1.6886 - accuracy: 0.6710 - root_mean_squared_error: 2.5960\n",
      "Epoch 38/60\n",
      "24/24 [==============================] - 69s 3s/step - loss: 6.2683 - mae: 1.5334 - accuracy: 0.6808 - root_mean_squared_error: 2.5028\n",
      "Epoch 39/60\n",
      "24/24 [==============================] - 69s 3s/step - loss: 5.6476 - mae: 1.4121 - accuracy: 0.6973 - root_mean_squared_error: 2.3753\n",
      "Epoch 40/60\n",
      "24/24 [==============================] - 69s 3s/step - loss: 6.7448 - mae: 1.7050 - accuracy: 0.7103 - root_mean_squared_error: 2.5957\n",
      "Epoch 41/60\n",
      "24/24 [==============================] - 84s 3s/step - loss: 5.3632 - mae: 1.4581 - accuracy: 0.7085 - root_mean_squared_error: 2.3151\n",
      "Epoch 42/60\n",
      "24/24 [==============================] - 79s 3s/step - loss: 6.6172 - mae: 1.6982 - accuracy: 0.6955 - root_mean_squared_error: 2.5705\n",
      "Epoch 43/60\n",
      "24/24 [==============================] - 79s 3s/step - loss: 5.0513 - mae: 1.4411 - accuracy: 0.7173 - root_mean_squared_error: 2.2474\n",
      "Epoch 44/60\n",
      "24/24 [==============================] - 78s 3s/step - loss: 5.0101 - mae: 1.4093 - accuracy: 0.7344 - root_mean_squared_error: 2.2379\n",
      "Epoch 45/60\n",
      "24/24 [==============================] - 77s 3s/step - loss: 5.1164 - mae: 1.3476 - accuracy: 0.7309 - root_mean_squared_error: 2.2598\n",
      "Epoch 46/60\n",
      "24/24 [==============================] - 78s 3s/step - loss: 4.8546 - mae: 1.3975 - accuracy: 0.7378 - root_mean_squared_error: 2.2026\n",
      "Epoch 47/60\n",
      "24/24 [==============================] - 78s 3s/step - loss: 4.9358 - mae: 1.4237 - accuracy: 0.7356 - root_mean_squared_error: 2.2214\n",
      "Epoch 48/60\n",
      "24/24 [==============================] - 77s 3s/step - loss: 5.1068 - mae: 1.4658 - accuracy: 0.7548 - root_mean_squared_error: 2.2583\n",
      "Epoch 49/60\n",
      "24/24 [==============================] - 77s 3s/step - loss: 4.6566 - mae: 1.4002 - accuracy: 0.7469 - root_mean_squared_error: 2.1572\n",
      "Epoch 50/60\n",
      "24/24 [==============================] - 76s 3s/step - loss: 4.4741 - mae: 1.3393 - accuracy: 0.7593 - root_mean_squared_error: 2.1149\n",
      "Epoch 51/60\n",
      "24/24 [==============================] - 79s 3s/step - loss: 5.8431 - mae: 1.6922 - accuracy: 0.7488 - root_mean_squared_error: 2.4119\n",
      "Epoch 52/60\n",
      "24/24 [==============================] - 77s 3s/step - loss: 4.0017 - mae: 1.2766 - accuracy: 0.7686 - root_mean_squared_error: 1.9997\n",
      "Epoch 53/60\n",
      "24/24 [==============================] - 72s 3s/step - loss: 5.3585 - mae: 1.6460 - accuracy: 0.7774 - root_mean_squared_error: 2.3114\n",
      "Epoch 54/60\n",
      "24/24 [==============================] - 67s 3s/step - loss: 5.9747 - mae: 1.7318 - accuracy: 0.7602 - root_mean_squared_error: 2.4420\n",
      "Epoch 55/60\n",
      "24/24 [==============================] - 64s 3s/step - loss: 3.9168 - mae: 1.3065 - accuracy: 0.7453 - root_mean_squared_error: 1.9785\n",
      "Epoch 56/60\n"
     ]
    },
    {
     "name": "stdout",
     "output_type": "stream",
     "text": [
      "24/24 [==============================] - 68s 3s/step - loss: 3.5007 - mae: 1.2041 - accuracy: 0.7651 - root_mean_squared_error: 1.8707\n",
      "Epoch 57/60\n",
      "24/24 [==============================] - 69s 3s/step - loss: 3.4370 - mae: 1.2041 - accuracy: 0.7673 - root_mean_squared_error: 1.8537\n",
      "Epoch 58/60\n",
      "24/24 [==============================] - 69s 3s/step - loss: 3.4448 - mae: 1.1873 - accuracy: 0.7659 - root_mean_squared_error: 1.8554\n",
      "Epoch 59/60\n",
      "24/24 [==============================] - 69s 3s/step - loss: 3.5981 - mae: 1.2465 - accuracy: 0.7674 - root_mean_squared_error: 1.8959\n",
      "Epoch 60/60\n",
      "24/24 [==============================] - 64s 3s/step - loss: 3.5399 - mae: 1.2634 - accuracy: 0.7933 - root_mean_squared_error: 1.8744\n"
     ]
    },
    {
     "data": {
      "text/plain": [
       "<tensorflow.python.keras.callbacks.History at 0x3aaa61310>"
      ]
     },
     "execution_count": 17,
     "metadata": {},
     "output_type": "execute_result"
    }
   ],
   "source": [
    "model.fit(x = x_train, y = y_train, epochs=60, batch_size = 256, verbose=1)"
   ]
  },
  {
   "cell_type": "code",
   "execution_count": 18,
   "id": "threaded-feature",
   "metadata": {},
   "outputs": [
    {
     "name": "stdout",
     "output_type": "stream",
     "text": [
      "32/32 [==============================] - 3s 75ms/step - loss: 6.5282 - mae: 1.8626 - accuracy: 0.5730 - root_mean_squared_error: 2.5550\n"
     ]
    },
    {
     "data": {
      "text/plain": [
       "[6.528191566467285, 1.8626309633255005, 0.5730000138282776, 2.555032730102539]"
      ]
     },
     "execution_count": 18,
     "metadata": {},
     "output_type": "execute_result"
    }
   ],
   "source": [
    "model.evaluate(x_test, y_test)"
   ]
  },
  {
   "cell_type": "code",
   "execution_count": 38,
   "id": "impaired-harrison",
   "metadata": {},
   "outputs": [],
   "source": [
    "test = pd.read_csv('data/test.zip')"
   ]
  },
  {
   "cell_type": "code",
   "execution_count": 41,
   "id": "closed-sword",
   "metadata": {},
   "outputs": [
    {
     "data": {
      "text/plain": [
       "((1783,), (1783, 96, 96))"
      ]
     },
     "execution_count": 41,
     "metadata": {},
     "output_type": "execute_result"
    }
   ],
   "source": [
    "test_imgid = test['ImageId'].to_numpy()\n",
    "test_data = np.array(test['Image'].str.split().tolist(), dtype='float').reshape(-1, IMG_DIM,IMG_DIM) / 255.0\n",
    "test_imgid.shape, test_data.shape"
   ]
  },
  {
   "cell_type": "code",
   "execution_count": 42,
   "id": "junior-headquarters",
   "metadata": {},
   "outputs": [],
   "source": [
    "preds = model.predict(test_data)"
   ]
  },
  {
   "cell_type": "code",
   "execution_count": 54,
   "id": "descending-drama",
   "metadata": {},
   "outputs": [
    {
     "data": {
      "text/plain": [
       "(1783, 30)"
      ]
     },
     "execution_count": 54,
     "metadata": {},
     "output_type": "execute_result"
    }
   ],
   "source": [
    "preds.shape"
   ]
  },
  {
   "cell_type": "code",
   "execution_count": 47,
   "id": "vocational-store",
   "metadata": {},
   "outputs": [],
   "source": [
    "cols = list(training_df.columns)"
   ]
  },
  {
   "cell_type": "code",
   "execution_count": 19,
   "id": "muslim-pacific",
   "metadata": {},
   "outputs": [],
   "source": [
    "lookup_table = pd.read_csv('data/IDLookupTable.csv')"
   ]
  },
  {
   "cell_type": "code",
   "execution_count": 94,
   "id": "aerial-introduction",
   "metadata": {
    "scrolled": false
   },
   "outputs": [],
   "source": [
    "rowids = []\n",
    "locs = []"
   ]
  },
  {
   "cell_type": "code",
   "execution_count": 100,
   "id": "suspected-shepherd",
   "metadata": {},
   "outputs": [],
   "source": [
    "for index, row in lookup_table.iterrows():\n",
    "    #if index > 10 : break\n",
    "    rowid = row['RowId']\n",
    "    imgid = row['ImageId']\n",
    "    feature_name = row['FeatureName']\n",
    "    colid = cols.index(feature_name)\n",
    "    #print(rowid, colid)\n",
    "    location = preds[imgid-1:imgid,colid:colid+1].reshape(1)[0]\n",
    "    rowids.append(rowid)\n",
    "    locs.append(location)\n",
    "    #print(rowid, location)"
   ]
  },
  {
   "cell_type": "code",
   "execution_count": 97,
   "id": "aboriginal-measure",
   "metadata": {},
   "outputs": [],
   "source": [
    "final_df = pd.DataFrame.from_dict({'RowId':rowids, 'Location':locs})"
   ]
  },
  {
   "cell_type": "code",
   "execution_count": 98,
   "id": "placed-bouquet",
   "metadata": {},
   "outputs": [
    {
     "name": "stdout",
     "output_type": "stream",
     "text": [
      "<class 'pandas.core.frame.DataFrame'>\n",
      "RangeIndex: 27124 entries, 0 to 27123\n",
      "Data columns (total 2 columns):\n",
      " #   Column    Non-Null Count  Dtype  \n",
      "---  ------    --------------  -----  \n",
      " 0   RowId     27124 non-null  int64  \n",
      " 1   Location  27124 non-null  float64\n",
      "dtypes: float64(1), int64(1)\n",
      "memory usage: 423.9 KB\n"
     ]
    }
   ],
   "source": [
    "final_df.info()"
   ]
  },
  {
   "cell_type": "code",
   "execution_count": 99,
   "id": "stretch-purse",
   "metadata": {},
   "outputs": [],
   "source": [
    "final_df.to_csv('data/submission.csv' , index=False)"
   ]
  }
 ],
 "metadata": {
  "kernelspec": {
   "display_name": "py38_8",
   "language": "python",
   "name": "py38_8"
  },
  "language_info": {
   "codemirror_mode": {
    "name": "ipython",
    "version": 3
   },
   "file_extension": ".py",
   "mimetype": "text/x-python",
   "name": "python",
   "nbconvert_exporter": "python",
   "pygments_lexer": "ipython3",
   "version": "3.8.8"
  }
 },
 "nbformat": 4,
 "nbformat_minor": 5
}
