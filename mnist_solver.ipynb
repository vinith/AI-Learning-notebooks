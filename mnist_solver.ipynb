{
 "cells": [
  {
   "cell_type": "code",
   "execution_count": 12,
   "id": "italian-chuck",
   "metadata": {},
   "outputs": [
    {
     "name": "stdout",
     "output_type": "stream",
     "text": [
      "(60000, 28, 28) (60000,)\n"
     ]
    }
   ],
   "source": [
    "import idx2numpy\n",
    "import numpy as np\n",
    "import matplotlib.pyplot as plt\n",
    "import tensorflow as tf\n",
    "from tensorflow import keras\n",
    "import random as rand\n",
    "import cv2\n",
    "np.set_printoptions(suppress=True)\n",
    "\n",
    "x_digit = idx2numpy.convert_from_file('data/train-images-idx3-ubyte')\n",
    "y_digit = idx2numpy.convert_from_file('data/train-labels-idx1-ubyte')\n",
    "\n",
    "print(x_digit.shape, y_digit.shape)\n",
    "BATCH_SIZE = 512\n",
    "TRAIN_SIZE = 50000\n",
    "TEST_SIZE = 10000\n",
    "EPOCHS = 50\n",
    "OUTER_IMG_SZ = 28"
   ]
  },
  {
   "cell_type": "code",
   "execution_count": 13,
   "id": "essential-absolute",
   "metadata": {},
   "outputs": [],
   "source": [
    "### Generate train and test data using mnist set with GRID_SIDE digits\n",
    "GRID_SIDE = 1\n",
    "\n",
    "image_dict = [[] for i in range(10)]\n",
    "for digit,image in zip(y_digit, x_digit):\n",
    "    image_dict[digit].append(image)"
   ]
  },
  {
   "cell_type": "code",
   "execution_count": 14,
   "id": "noticed-belgium",
   "metadata": {},
   "outputs": [],
   "source": [
    "class TestImgGenSequence(keras.utils.Sequence):\n",
    "    \n",
    "    def __init__(self, length_of_set, batch_size=BATCH_SIZE):\n",
    "        self.batch_size = batch_size\n",
    "        self.length_of_set = length_of_set\n",
    "        self.epoch_count = 0.0\n",
    "    \n",
    "    def __len__(self):\n",
    "        'Denotes the number of batches per epoch 10k/128'\n",
    "        ret = self.length_of_set // self.batch_size\n",
    "        #print(\"Returning length as \" + str(ret))\n",
    "        return ret\n",
    "\n",
    "    def __getitem__(self, index):\n",
    "        'Generate one batch of data'\n",
    "        #print(\"Getting item for index \" + str(index))\n",
    "        # Generate indexes of the batch\n",
    "        #print(\"using batch_size \" + str(self.batch_size))\n",
    "        x, y = self.gen_test_data(self.batch_size)\n",
    "        #print(\"Shapes of returned \", x.shape, y.shape)\n",
    "        ys = {}\n",
    "        for op_l in range(GRID_SIDE**2):\n",
    "            ys[op_l] = y[:,op_l,:]\n",
    "        return x,ys\n",
    "    \n",
    "    def on_epoch_end(self):\n",
    "        'Updates indexes after each epoch'\n",
    "        self.epoch_count += 1.0\n",
    "        #print(\"An epoch ended >>>>>>> xxxxxxx >>>>>> qqq >>>>\")\n",
    "    \n",
    "    def gen_test_data(self, num_data):\n",
    "        x_data, y_data = np.zeros((num_data, OUTER_IMG_SZ , OUTER_IMG_SZ)), np.zeros((num_data, GRID_SIDE **2))\n",
    "        for i in range(num_data):\n",
    "            #pick a random size so that the grid is at least 70% of the overall image\n",
    "            border_sz = 0\n",
    "            digit_sz = rand.randint(OUTER_IMG_SZ//(1.4 * GRID_SIDE), OUTER_IMG_SZ//GRID_SIDE) - 2 * border_sz\n",
    "            border_digit_sz  = digit_sz + 2 * border_sz\n",
    "            grid_size = GRID_SIDE * (border_digit_sz)\n",
    "            #pick random offsets so image doesn't go off screen\n",
    "            x_offset = rand.randint(0, OUTER_IMG_SZ - grid_size)\n",
    "            y_offset = rand.randint(0, OUTER_IMG_SZ - grid_size)\n",
    "            for k in range(GRID_SIDE**2):\n",
    "                rand_digit = rand.randint(0,9)\n",
    "                rand_img = rand.choice(image_dict[rand_digit])\n",
    "                rand_img = cv2.resize(rand_img, (digit_sz, digit_sz))\n",
    "                if rand_digit == 0 : rand_img = np.zeros((digit_sz, digit_sz))\n",
    "                rand_img = cv2.copyMakeBorder(rand_img, border_sz,border_sz,border_sz,border_sz, cv2.BORDER_CONSTANT, value = [255,255,255])\n",
    "                y_data[i,k] = rand_digit\n",
    "                r = k//GRID_SIDE\n",
    "                c = k % GRID_SIDE\n",
    "                x_data[i, y_offset + r*border_digit_sz:y_offset + (r+1)*border_digit_sz, x_offset + border_digit_sz*c:x_offset + border_digit_sz*(c+1)] = rand_img\n",
    "        x_data /= 255.0\n",
    "        y_data = tf.one_hot(y_data, 10).numpy()\n",
    "        return x_data, y_data\n",
    "    "
   ]
  },
  {
   "cell_type": "code",
   "execution_count": 15,
   "id": "changing-recipe",
   "metadata": {},
   "outputs": [
    {
     "name": "stdout",
     "output_type": "stream",
     "text": [
      "(28, 28)\n"
     ]
    },
    {
     "data": {
      "image/png": "[encoded data removed]",
      "text/plain": [
       "<Figure size 432x288 with 1 Axes>"
      ]
     },
     "metadata": {
      "needs_background": "light"
     },
     "output_type": "display_data"
    },
    {
     "data": {
      "image/png": "[encoded data removed]",
      "text/plain": [
       "<Figure size 432x288 with 1 Axes>"
      ]
     },
     "metadata": {
      "needs_background": "light"
     },
     "output_type": "display_data"
    }
   ],
   "source": [
    "gen = TestImgGenSequence(1)\n",
    "x,y = gen.gen_test_data(2)\n",
    "print(x[0].shape)\n",
    "plt.imshow(x[0])\n",
    "plt.show()\n",
    "plt.imshow(x[1])\n",
    "img1, img2 = x"
   ]
  },
  {
   "cell_type": "code",
   "execution_count": 16,
   "id": "robust-abuse",
   "metadata": {},
   "outputs": [
    {
     "name": "stdout",
     "output_type": "stream",
     "text": [
      "(28, 28, 1)\n"
     ]
    },
    {
     "data": {
      "text/plain": [
       "<matplotlib.image.AxesImage at 0x14d4165e0>"
      ]
     },
     "execution_count": 16,
     "metadata": {},
     "output_type": "execute_result"
    },
    {
     "data": {
      "image/png": "[encoded data removed]",
      "text/plain": [
       "<Figure size 432x288 with 1 Axes>"
      ]
     },
     "metadata": {
      "needs_background": "light"
     },
     "output_type": "display_data"
    }
   ],
   "source": [
    "fimg = img2.reshape(28, 28,1)\n",
    "dgen = tf.keras.preprocessing.image.ImageDataGenerator()\n",
    "iim = dgen.apply_transform(fimg, {'shear':1, 'zx':1.2, 'zy':0.9})\n",
    "print(iim.shape)\n",
    "plt.imshow(iim)"
   ]
  },
  {
   "cell_type": "code",
   "execution_count": 27,
   "id": "hairy-yukon",
   "metadata": {
    "scrolled": false
   },
   "outputs": [
    {
     "name": "stdout",
     "output_type": "stream",
     "text": [
      "Model: \"digit_recognizer\"\n",
      "_________________________________________________________________\n",
      "Layer (type)                 Output Shape              Param #   \n",
      "=================================================================\n",
      "input_8 (InputLayer)         [(None, 28, 28, 1)]       0         \n",
      "_________________________________________________________________\n",
      "conv2d_42 (Conv2D)           (None, 14, 14, 8)         80        \n",
      "_________________________________________________________________\n",
      "conv2d_43 (Conv2D)           (None, 14, 14, 16)        1168      \n",
      "_________________________________________________________________\n",
      "max_pooling2d_21 (MaxPooling (None, 7, 7, 16)          0         \n",
      "_________________________________________________________________\n",
      "conv2d_44 (Conv2D)           (None, 7, 7, 24)          3480      \n",
      "_________________________________________________________________\n",
      "conv2d_45 (Conv2D)           (None, 7, 7, 32)          6944      \n",
      "_________________________________________________________________\n",
      "max_pooling2d_22 (MaxPooling (None, 3, 3, 32)          0         \n",
      "_________________________________________________________________\n",
      "conv2d_46 (Conv2D)           (None, 3, 3, 32)          9248      \n",
      "_________________________________________________________________\n",
      "conv2d_47 (Conv2D)           (None, 3, 3, 40)          11560     \n",
      "_________________________________________________________________\n",
      "max_pooling2d_23 (MaxPooling (None, 1, 1, 40)          0         \n",
      "_________________________________________________________________\n",
      "flatten_5 (Flatten)          (None, 40)                0         \n",
      "_________________________________________________________________\n",
      "output_digit_0 (Dense)       (None, 10)                410       \n",
      "=================================================================\n",
      "Total params: 32,890\n",
      "Trainable params: 32,890\n",
      "Non-trainable params: 0\n",
      "_________________________________________________________________\n"
     ]
    }
   ],
   "source": [
    "act = 'relu'\n",
    "pad = 'same'\n",
    "strd = 1\n",
    "input_layer = tf.keras.Input(shape = (OUTER_IMG_SZ, OUTER_IMG_SZ,1))\n",
    "_ = tf.keras.layers.Conv2D(filters=8, kernel_size=3, activation = act, padding = pad, strides=2)(input_layer)\n",
    "_ = tf.keras.layers.Conv2D(filters=8*2, kernel_size=3, activation = act, padding = pad, strides=strd)(_) \n",
    "_ = tf.keras.layers.MaxPool2D()(_)\n",
    "_ = tf.keras.layers.Conv2D(filters=8*3, kernel_size=3, activation = act, padding = pad, strides = strd)(_) \n",
    "_ = tf.keras.layers.Conv2D(filters=8*4, kernel_size=3, activation = act, padding = pad, strides = strd)(_) \n",
    "_ = tf.keras.layers.MaxPool2D()(_)\n",
    "_ = tf.keras.layers.Conv2D(filters=8*4, kernel_size=3, activation = act, padding = pad, strides = strd)(_) \n",
    "_ = tf.keras.layers.Conv2D(filters=8*5, kernel_size=3, activation = act, padding = pad, strides = strd)(_) \n",
    "_ = tf.keras.layers.MaxPool2D()(_) \n",
    "common_layer = tf.keras.layers.Flatten()(_)\n",
    "#One output layer per digit\n",
    "output_layers = {}\n",
    "output_loss_fns = {}\n",
    "output_metrics = {}\n",
    "for op_l in range(GRID_SIDE ** 2):\n",
    "    layer_name = \"output_digit_\" + str(op_l)\n",
    "    output_layers[op_l] = tf.keras.layers.Dense(10, activation = 'softmax', name=layer_name)(common_layer)\n",
    "    output_loss_fns[op_l] = tf.keras.losses.CategoricalCrossentropy()\n",
    "    output_metrics[op_l] = 'accuracy'\n",
    "\n",
    "model = tf.keras.Model(inputs=input_layer, outputs = output_layers, name=\"digit_recognizer\")\n",
    "model.compile(optimizer=tf.keras.optimizers.Adamax(),\n",
    "             loss = output_loss_fns,\n",
    "             metrics = ['accuracy'] )\n",
    "model.summary()"
   ]
  },
  {
   "cell_type": "code",
   "execution_count": 28,
   "id": "contemporary-cattle",
   "metadata": {},
   "outputs": [],
   "source": [
    "training_gen = TestImgGenSequence(TRAIN_SIZE)\n",
    "validation_gen = TestImgGenSequence(TEST_SIZE)"
   ]
  },
  {
   "cell_type": "code",
   "execution_count": null,
   "id": "familiar-future",
   "metadata": {
    "scrolled": false
   },
   "outputs": [
    {
     "name": "stdout",
     "output_type": "stream",
     "text": [
      "Epoch 1/50\n",
      "97/97 [==============================] - 3s 27ms/step - loss: 1.9888 - accuracy: 0.3305\n",
      "Epoch 2/50\n",
      "97/97 [==============================] - 3s 27ms/step - loss: 0.8260 - accuracy: 0.7852\n",
      "Epoch 3/50\n",
      "97/97 [==============================] - 3s 27ms/step - loss: 0.4304 - accuracy: 0.8712\n",
      "Epoch 4/50\n",
      "97/97 [==============================] - 3s 27ms/step - loss: 0.3226 - accuracy: 0.9013\n",
      "Epoch 5/50\n",
      "97/97 [==============================] - 3s 27ms/step - loss: 0.2729 - accuracy: 0.9181\n",
      "Epoch 6/50\n",
      "97/97 [==============================] - 3s 27ms/step - loss: 0.2362 - accuracy: 0.9285\n",
      "Epoch 7/50\n",
      "97/97 [==============================] - 3s 27ms/step - loss: 0.2140 - accuracy: 0.9355\n",
      "Epoch 8/50\n",
      "97/97 [==============================] - 3s 27ms/step - loss: 0.1970 - accuracy: 0.9409\n",
      "Epoch 9/50\n",
      "97/97 [==============================] - 3s 27ms/step - loss: 0.1816 - accuracy: 0.9448\n",
      "Epoch 10/50\n",
      "97/97 [==============================] - 3s 27ms/step - loss: 0.1740 - accuracy: 0.9477\n",
      "Epoch 11/50\n",
      "97/97 [==============================] - 3s 27ms/step - loss: 0.1653 - accuracy: 0.9505\n",
      "Epoch 12/50\n",
      "97/97 [==============================] - 3s 28ms/step - loss: 0.1579 - accuracy: 0.9524\n",
      "Epoch 13/50\n",
      "97/97 [==============================] - 3s 27ms/step - loss: 0.1478 - accuracy: 0.9542\n",
      "Epoch 14/50\n",
      "97/97 [==============================] - 3s 27ms/step - loss: 0.1438 - accuracy: 0.9557\n",
      "Epoch 15/50\n",
      "97/97 [==============================] - 3s 27ms/step - loss: 0.1371 - accuracy: 0.9578\n",
      "Epoch 16/50\n",
      "97/97 [==============================] - 3s 27ms/step - loss: 0.1280 - accuracy: 0.9596\n",
      "Epoch 17/50\n",
      "97/97 [==============================] - 3s 27ms/step - loss: 0.1217 - accuracy: 0.9623\n",
      "Epoch 18/50\n",
      "97/97 [==============================] - 3s 27ms/step - loss: 0.1156 - accuracy: 0.9640\n",
      "Epoch 19/50\n",
      "97/97 [==============================] - 3s 27ms/step - loss: 0.1144 - accuracy: 0.9659\n",
      "Epoch 20/50\n",
      "67/97 [===================>..........] - ETA: 0s - loss: 0.1042 - accuracy: 0.9665"
     ]
    }
   ],
   "source": [
    "%%time\n",
    "\n",
    "model.fit(x = training_gen, epochs=EPOCHS, batch_size=BATCH_SIZE, verbose=1)"
   ]
  },
  {
   "cell_type": "code",
   "execution_count": 9,
   "id": "progressive-garden",
   "metadata": {},
   "outputs": [
    {
     "name": "stdout",
     "output_type": "stream",
     "text": [
      "9/9 [==============================] - 0s 9ms/step - loss: 0.9097 - accuracy: 0.6613\n"
     ]
    },
    {
     "data": {
      "text/plain": [
       "[0.9097317457199097, 0.6613498330116272]"
      ]
     },
     "execution_count": 9,
     "metadata": {},
     "output_type": "execute_result"
    }
   ],
   "source": [
    "model.evaluate(x=validation_gen, y=None)"
   ]
  }
 ],
 "metadata": {
  "kernelspec": {
   "display_name": "p38TF",
   "language": "python",
   "name": "p38tf"
  },
  "language_info": {
   "codemirror_mode": {
    "name": "ipython",
    "version": 3
   },
   "file_extension": ".py",
   "mimetype": "text/x-python",
   "name": "python",
   "nbconvert_exporter": "python",
   "pygments_lexer": "ipython3",
   "version": "3.8.6"
  }
 },
 "nbformat": 4,
 "nbformat_minor": 5
}
