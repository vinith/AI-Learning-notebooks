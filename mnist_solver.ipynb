{
 "cells": [
  {
   "cell_type": "code",
   "execution_count": 2,
   "id": "italian-chuck",
   "metadata": {},
   "outputs": [
    {
     "name": "stdout",
     "output_type": "stream",
     "text": [
      "(60000, 28, 28) (60000,)\n"
     ]
    }
   ],
   "source": [
    "import idx2numpy\n",
    "import numpy as np\n",
    "import matplotlib.pyplot as plt\n",
    "import tensorflow as tf\n",
    "from tensorflow import keras\n",
    "import random as rand\n",
    "import cv2\n",
    "np.set_printoptions(suppress=True)\n",
    "\n",
    "x_digit = idx2numpy.convert_from_file('data/train-images-idx3-ubyte')\n",
    "y_digit = idx2numpy.convert_from_file('data/train-labels-idx1-ubyte')\n",
    "\n",
    "print(x_digit.shape, y_digit.shape)\n",
    "BATCH_SIZE = 16\n",
    "TRAIN_SIZE = 50000\n",
    "TEST_SIZE = 10000\n",
    "EPOCHS = 10\n",
    "OUTER_IMG_SZ = 28"
   ]
  },
  {
   "cell_type": "code",
   "execution_count": 3,
   "id": "essential-absolute",
   "metadata": {},
   "outputs": [],
   "source": [
    "### Generate train and test data using mnist set with GRID_SIDE digits\n",
    "GRID_SIDE = 1\n",
    "\n",
    "image_dict = [[] for i in range(10)]\n",
    "for digit,image in zip(y_digit, x_digit):\n",
    "    image_dict[digit].append(image)"
   ]
  },
  {
   "cell_type": "code",
   "execution_count": 4,
   "id": "noticed-belgium",
   "metadata": {},
   "outputs": [],
   "source": [
    "class TestImgGenSequence(keras.utils.Sequence):\n",
    "    \n",
    "    def __init__(self, length_of_set, batch_size=BATCH_SIZE):\n",
    "        self.batch_size = batch_size\n",
    "        self.length_of_set = length_of_set\n",
    "        self.epoch_count = 0.0\n",
    "    \n",
    "    def __len__(self):\n",
    "        'Denotes the number of batches per epoch 10k/128'\n",
    "        ret = self.length_of_set // self.batch_size\n",
    "        #print(\"Returning length as \" + str(ret))\n",
    "        return ret\n",
    "\n",
    "    def __getitem__(self, index):\n",
    "        'Generate one batch of data'\n",
    "        x, y = self.gen_test_data(self.batch_size)\n",
    "        #print(\"Shapes of returned \", x.shape, y.shape)\n",
    "        return x,y\n",
    "    \n",
    "    def on_epoch_end(self):\n",
    "        'Updates indexes after each epoch'\n",
    "        self.epoch_count += 1.0\n",
    "        #print(\"An epoch ended >>>>>>> xxxxxxx >>>>>> qqq >>>>\")\n",
    "    \n",
    "    def gen_test_data(self, num_data):\n",
    "        x_data, y_data = np.zeros((num_data, OUTER_IMG_SZ , OUTER_IMG_SZ)), np.zeros((num_data, GRID_SIDE **2))\n",
    "        for i in range(num_data):\n",
    "            #pick a random size so that the grid is at least 70% of the overall image\n",
    "            border_sz = 0\n",
    "            digit_sz = rand.randint(OUTER_IMG_SZ//(1.4 * GRID_SIDE), OUTER_IMG_SZ//GRID_SIDE) - 2 * border_sz\n",
    "            border_digit_sz  = digit_sz + 2 * border_sz\n",
    "            grid_size = GRID_SIDE * (border_digit_sz)\n",
    "            #pick random offsets so image doesn't go off screen\n",
    "            x_offset = rand.randint(0, OUTER_IMG_SZ - grid_size)\n",
    "            y_offset = rand.randint(0, OUTER_IMG_SZ - grid_size)\n",
    "            for k in range(GRID_SIDE**2):\n",
    "                rand_digit = rand.randint(0,9)\n",
    "                rand_img = rand.choice(image_dict[rand_digit])\n",
    "                rand_img = cv2.resize(rand_img, (digit_sz, digit_sz))\n",
    "                if rand_digit == 0 : rand_img = np.zeros((digit_sz, digit_sz))\n",
    "                rand_img = cv2.copyMakeBorder(rand_img, border_sz,border_sz,border_sz,border_sz, cv2.BORDER_CONSTANT, value = [255,255,255])\n",
    "                y_data[i,k] = rand_digit\n",
    "                r = k//GRID_SIDE\n",
    "                c = k % GRID_SIDE\n",
    "                x_data[i, y_offset + r*border_digit_sz:y_offset + (r+1)*border_digit_sz, x_offset + border_digit_sz*c:x_offset + border_digit_sz*(c+1)] = rand_img\n",
    "        x_data /= 255.0\n",
    "        y_data = tf.one_hot(y_data, 10).numpy().reshape(num_data,10)\n",
    "        return x_data, y_data\n",
    "    "
   ]
  },
  {
   "cell_type": "code",
   "execution_count": 27,
   "id": "changing-recipe",
   "metadata": {},
   "outputs": [
    {
     "name": "stdout",
     "output_type": "stream",
     "text": [
      "(28, 28)\n"
     ]
    },
    {
     "data": {
      "image/png": "[encoded data removed]",
      "text/plain": [
       "<Figure size 432x288 with 1 Axes>"
      ]
     },
     "metadata": {
      "needs_background": "light"
     },
     "output_type": "display_data"
    },
    {
     "data": {
      "image/png": "[encoded data removed]",
      "text/plain": [
       "<Figure size 432x288 with 1 Axes>"
      ]
     },
     "metadata": {
      "needs_background": "light"
     },
     "output_type": "display_data"
    }
   ],
   "source": [
    "gen = TestImgGenSequence(1)\n",
    "x,y = gen.gen_test_data(2)\n",
    "print(x[0].shape)\n",
    "plt.imshow(x[0])\n",
    "plt.show()\n",
    "plt.imshow(x[1])\n",
    "img1, img2 = x"
   ]
  },
  {
   "cell_type": "code",
   "execution_count": 13,
   "id": "robust-abuse",
   "metadata": {},
   "outputs": [
    {
     "name": "stdout",
     "output_type": "stream",
     "text": [
      "(28, 28, 1)\n"
     ]
    },
    {
     "data": {
      "text/plain": [
       "<matplotlib.image.AxesImage at 0x2881a8af0>"
      ]
     },
     "execution_count": 13,
     "metadata": {},
     "output_type": "execute_result"
    },
    {
     "data": {
      "image/png": "[encoded data removed]",
      "text/plain": [
       "<Figure size 432x288 with 1 Axes>"
      ]
     },
     "metadata": {
      "needs_background": "light"
     },
     "output_type": "display_data"
    }
   ],
   "source": [
    "fimg = img2.reshape(28, 28,1)\n",
    "dgen = tf.keras.preprocessing.image.ImageDataGenerator()\n",
    "iim = dgen.apply_transform(fimg, {'shear':1, 'zx':1.2, 'zy':0.9})\n",
    "print(iim.shape)\n",
    "plt.imshow(iim)"
   ]
  },
  {
   "cell_type": "code",
   "execution_count": 14,
   "id": "hairy-yukon",
   "metadata": {
    "scrolled": false
   },
   "outputs": [
    {
     "name": "stdout",
     "output_type": "stream",
     "text": [
      "Model: \"digit_recognizer\"\n",
      "_________________________________________________________________\n",
      "Layer (type)                 Output Shape              Param #   \n",
      "=================================================================\n",
      "input_1 (InputLayer)         [(None, 28, 28, 1)]       0         \n",
      "_________________________________________________________________\n",
      "conv2d (Conv2D)              (None, 28, 28, 10)        100       \n",
      "_________________________________________________________________\n",
      "conv2d_1 (Conv2D)            (None, 28, 28, 20)        1820      \n",
      "_________________________________________________________________\n",
      "max_pooling2d (MaxPooling2D) (None, 14, 14, 20)        0         \n",
      "_________________________________________________________________\n",
      "conv2d_2 (Conv2D)            (None, 14, 14, 30)        5430      \n",
      "_________________________________________________________________\n",
      "conv2d_3 (Conv2D)            (None, 14, 14, 40)        10840     \n",
      "_________________________________________________________________\n",
      "max_pooling2d_1 (MaxPooling2 (None, 7, 7, 40)          0         \n",
      "_________________________________________________________________\n",
      "conv2d_4 (Conv2D)            (None, 7, 7, 40)          14440     \n",
      "_________________________________________________________________\n",
      "conv2d_5 (Conv2D)            (None, 7, 7, 50)          18050     \n",
      "_________________________________________________________________\n",
      "max_pooling2d_2 (MaxPooling2 (None, 3, 3, 50)          0         \n",
      "_________________________________________________________________\n",
      "flatten (Flatten)            (None, 450)               0         \n",
      "_________________________________________________________________\n",
      "output_digit (Dense)         (None, 10)                4510      \n",
      "=================================================================\n",
      "Total params: 55,190\n",
      "Trainable params: 55,190\n",
      "Non-trainable params: 0\n",
      "_________________________________________________________________\n"
     ]
    }
   ],
   "source": [
    "act = 'relu'\n",
    "pad = 'same'\n",
    "strd = 1\n",
    "input_layer = tf.keras.Input(shape = (OUTER_IMG_SZ, OUTER_IMG_SZ,1))\n",
    "_ = tf.keras.layers.Conv2D(filters=10, kernel_size=3, activation = act, padding = pad, strides=1)(input_layer)\n",
    "_ = tf.keras.layers.Conv2D(filters=10*2, kernel_size=3, activation = act, padding = pad, strides=strd)(_) \n",
    "_ = tf.keras.layers.MaxPool2D()(_)\n",
    "_ = tf.keras.layers.Conv2D(filters=10*3, kernel_size=3, activation = act, padding = pad, strides = strd)(_) \n",
    "_ = tf.keras.layers.Conv2D(filters=10*4, kernel_size=3, activation = act, padding = pad, strides = strd)(_) \n",
    "_ = tf.keras.layers.MaxPool2D()(_)\n",
    "_ = tf.keras.layers.Conv2D(filters=10*4, kernel_size=3, activation = act, padding = pad, strides = strd)(_) \n",
    "_ = tf.keras.layers.Conv2D(filters=10*5, kernel_size=3, activation = act, padding = pad, strides = strd)(_) \n",
    "_ = tf.keras.layers.MaxPool2D()(_) \n",
    "common_layer = tf.keras.layers.Flatten()(_)\n",
    "\n",
    "output_layer = tf.keras.layers.Dense(10, activation = 'softmax', name=\"output_digit\")(common_layer)\n",
    "\n",
    "model = tf.keras.Model(inputs=input_layer, outputs = output_layer, name=\"digit_recognizer\")\n",
    "model.compile(optimizer=tf.keras.optimizers.Adamax(),\n",
    "             loss = tf.keras.losses.CategoricalCrossentropy(),\n",
    "             metrics = 'accuracy')\n",
    "model.summary()"
   ]
  },
  {
   "cell_type": "code",
   "execution_count": 5,
   "id": "contemporary-cattle",
   "metadata": {},
   "outputs": [],
   "source": [
    "training_gen = TestImgGenSequence(TRAIN_SIZE)\n",
    "validation_gen = TestImgGenSequence(TEST_SIZE)"
   ]
  },
  {
   "cell_type": "code",
   "execution_count": 17,
   "id": "familiar-future",
   "metadata": {
    "scrolled": false
   },
   "outputs": [
    {
     "name": "stdout",
     "output_type": "stream",
     "text": [
      "Epoch 1/10\n",
      "3125/3125 [==============================] - 14s 4ms/step - loss: 0.6475 - accuracy: 0.7921\n",
      "Epoch 2/10\n",
      "3125/3125 [==============================] - 14s 5ms/step - loss: 0.1309 - accuracy: 0.9580\n",
      "Epoch 3/10\n",
      "3125/3125 [==============================] - 14s 4ms/step - loss: 0.0825 - accuracy: 0.9746\n",
      "Epoch 4/10\n",
      "3125/3125 [==============================] - 16s 5ms/step - loss: 0.0679 - accuracy: 0.9773\n",
      "Epoch 5/10\n",
      "3125/3125 [==============================] - 14s 5ms/step - loss: 0.0604 - accuracy: 0.9804\n",
      "Epoch 6/10\n",
      "3125/3125 [==============================] - 14s 5ms/step - loss: 0.0514 - accuracy: 0.9835\n",
      "Epoch 7/10\n",
      "3125/3125 [==============================] - 14s 5ms/step - loss: 0.0474 - accuracy: 0.9853\n",
      "Epoch 8/10\n",
      "3125/3125 [==============================] - 14s 5ms/step - loss: 0.0414 - accuracy: 0.9876\n",
      "Epoch 9/10\n",
      "3125/3125 [==============================] - 14s 4ms/step - loss: 0.0342 - accuracy: 0.9892\n",
      "Epoch 10/10\n",
      "3125/3125 [==============================] - 14s 5ms/step - loss: 0.0315 - accuracy: 0.9904\n",
      "CPU times: user 2min 44s, sys: 6.87 s, total: 2min 50s\n",
      "Wall time: 2min 22s\n"
     ]
    },
    {
     "data": {
      "text/plain": [
       "<tensorflow.python.keras.callbacks.History at 0x17ff847f0>"
      ]
     },
     "execution_count": 17,
     "metadata": {},
     "output_type": "execute_result"
    }
   ],
   "source": [
    "%%time\n",
    "\n",
    "model.fit(x = training_gen, epochs=EPOCHS, batch_size=BATCH_SIZE, verbose=1)"
   ]
  },
  {
   "cell_type": "code",
   "execution_count": 18,
   "id": "progressive-garden",
   "metadata": {},
   "outputs": [
    {
     "name": "stdout",
     "output_type": "stream",
     "text": [
      "625/625 [==============================] - 1s 1ms/step - loss: 0.0263 - accuracy: 0.9919\n"
     ]
    },
    {
     "data": {
      "text/plain": [
       "[0.026313146576285362, 0.9919000267982483]"
      ]
     },
     "execution_count": 18,
     "metadata": {},
     "output_type": "execute_result"
    }
   ],
   "source": [
    "model.evaluate(x=TestImgGenSequence(TEST_SIZE), y=None)"
   ]
  },
  {
   "cell_type": "code",
   "execution_count": 19,
   "id": "animated-saint",
   "metadata": {},
   "outputs": [
    {
     "name": "stderr",
     "output_type": "stream",
     "text": [
      "/opt/homebrew/Caskroom/miniforge/base/envs/p38TF/lib/python3.8/site-packages/tensorflow/python/keras/engine/training.py:2325: UserWarning: `Model.state_updates` will be removed in a future version. This property should not be used in TensorFlow 2.0, as `updates` are applied automatically.\n",
      "  warnings.warn('`Model.state_updates` will be removed in a future version. '\n",
      "/opt/homebrew/Caskroom/miniforge/base/envs/p38TF/lib/python3.8/site-packages/tensorflow/python/keras/engine/base_layer.py:1397: UserWarning: `layer.updates` will be removed in a future version. This property should not be used in TensorFlow 2.0, as `updates` are applied automatically.\n",
      "  warnings.warn('`layer.updates` will be removed in a future version. '\n"
     ]
    },
    {
     "name": "stdout",
     "output_type": "stream",
     "text": [
      "WARNING:tensorflow:FOR KERAS USERS: The object that you are saving contains one or more Keras models or layers. If you are loading the SavedModel with `tf.keras.models.load_model`, continue reading (otherwise, you may ignore the following instructions). Please change your code to save with `tf.keras.models.save_model` or `model.save`, and confirm that the file \"keras.metadata\" exists in the export directory. In the future, Keras will only load the SavedModels that have this file. In other words, `tf.saved_model.save` will no longer write SavedModels that can be recovered as Keras models (this will apply in TF 2.5).\n",
      "\n",
      "FOR DEVS: If you are overwriting _tracking_metadata in your class, this property has been used to save metadata in the SavedModel. The metadta field will be deprecated soon, so please move the metadata to a different file.\n",
      "INFO:tensorflow:Assets written to: models/mnist_model/assets\n"
     ]
    }
   ],
   "source": [
    "model.save('models/mnist_model')"
   ]
  },
  {
   "cell_type": "code",
   "execution_count": 6,
   "id": "accompanied-education",
   "metadata": {},
   "outputs": [
    {
     "ename": "NameError",
     "evalue": "name 'model' is not defined",
     "output_type": "error",
     "traceback": [
      "\u001b[0;31m---------------------------------------------------------------------------\u001b[0m",
      "\u001b[0;31mNameError\u001b[0m                                 Traceback (most recent call last)",
      "\u001b[0;32m<ipython-input-6-9f484d8db729>\u001b[0m in \u001b[0;36m<module>\u001b[0;34m\u001b[0m\n\u001b[0;32m----> 1\u001b[0;31m \u001b[0mmodel\u001b[0m\u001b[0;34m.\u001b[0m\u001b[0mlayers\u001b[0m\u001b[0;34m[\u001b[0m\u001b[0;36m5\u001b[0m\u001b[0;34m]\u001b[0m\u001b[0;34m.\u001b[0m\u001b[0mget_weights\u001b[0m\u001b[0;34m(\u001b[0m\u001b[0;34m)\u001b[0m\u001b[0;34m\u001b[0m\u001b[0;34m\u001b[0m\u001b[0m\n\u001b[0m",
      "\u001b[0;31mNameError\u001b[0m: name 'model' is not defined"
     ]
    }
   ],
   "source": [
    "model.layers[5].get_weights()"
   ]
  },
  {
   "cell_type": "code",
   "execution_count": 7,
   "id": "excited-thousand",
   "metadata": {},
   "outputs": [
    {
     "name": "stdout",
     "output_type": "stream",
     "text": [
      "625/625 [==============================] - 1s 2ms/step - loss: 0.0308 - accuracy: 0.9920\n"
     ]
    },
    {
     "data": {
      "text/plain": [
       "[0.030775681138038635, 0.9919999837875366]"
      ]
     },
     "execution_count": 7,
     "metadata": {},
     "output_type": "execute_result"
    }
   ],
   "source": [
    "nmdl = tf.keras.models.load_model('models/mnist_model')\n",
    "nmdl.evaluate(x=TestImgGenSequence(TEST_SIZE), y=None)"
   ]
  },
  {
   "cell_type": "code",
   "execution_count": 22,
   "id": "dense-inspection",
   "metadata": {},
   "outputs": [
    {
     "data": {
      "text/plain": [
       "[array([[[[-0.15246077,  0.07684723,  0.02973115, ..., -0.21086538,\n",
       "            0.08359913, -0.02788634],\n",
       "          [-0.05614688,  0.0479369 ,  0.01762312, ...,  0.06720082,\n",
       "            0.07672588, -0.07129734],\n",
       "          [ 0.04914112, -0.01685917, -0.06210468, ..., -0.07334051,\n",
       "           -0.03147487,  0.09288959],\n",
       "          ...,\n",
       "          [ 0.05702347, -0.10481242,  0.00886022, ..., -0.1280659 ,\n",
       "            0.01700035,  0.03856556],\n",
       "          [ 0.00617778,  0.01073342, -0.09746637, ...,  0.09348628,\n",
       "            0.04778268, -0.02879914],\n",
       "          [-0.04038062, -0.07092635,  0.01105105, ...,  0.11993033,\n",
       "           -0.00068764,  0.06343146]],\n",
       " \n",
       "         [[-0.03988907, -0.1090641 , -0.00802271, ..., -0.14249445,\n",
       "           -0.01459963,  0.05854427],\n",
       "          [-0.13074899, -0.12184688, -0.08272532, ...,  0.11381707,\n",
       "           -0.0101894 , -0.09837726],\n",
       "          [ 0.0368669 , -0.06479507,  0.00070362, ..., -0.07222161,\n",
       "           -0.07670929, -0.02053125],\n",
       "          ...,\n",
       "          [ 0.05264748,  0.03691125,  0.02547805, ..., -0.11691631,\n",
       "            0.10663875, -0.00892591],\n",
       "          [ 0.09262697,  0.0285828 , -0.03645054, ..., -0.05408896,\n",
       "            0.03242147, -0.07232606],\n",
       "          [ 0.06351887,  0.10144112, -0.07235194, ..., -0.02503017,\n",
       "           -0.08567529,  0.02720901]],\n",
       " \n",
       "         [[-0.09373892,  0.0200037 ,  0.10954626, ...,  0.03832959,\n",
       "            0.06020372,  0.13743877],\n",
       "          [-0.10045316, -0.03029355, -0.0954774 , ..., -0.0492561 ,\n",
       "            0.00806369, -0.01081549],\n",
       "          [ 0.01875952,  0.02211358,  0.03758901, ..., -0.0142779 ,\n",
       "           -0.06203424, -0.04389756],\n",
       "          ...,\n",
       "          [ 0.00672509, -0.0463006 ,  0.04042152, ..., -0.07371892,\n",
       "            0.09402786,  0.0104213 ],\n",
       "          [ 0.0502332 ,  0.03171477, -0.1106493 , ..., -0.06310097,\n",
       "           -0.02484865, -0.03961891],\n",
       "          [-0.05938839, -0.05209154,  0.01332201, ...,  0.01803456,\n",
       "           -0.09176069, -0.0092614 ]]],\n",
       " \n",
       " \n",
       "        [[[-0.13188033, -0.00195726, -0.02245083, ..., -0.06478497,\n",
       "           -0.043116  ,  0.05804472],\n",
       "          [-0.01139546, -0.01761591, -0.09621979, ..., -0.11592581,\n",
       "           -0.00317946,  0.01990157],\n",
       "          [-0.09722371, -0.06947304, -0.07592407, ..., -0.01748993,\n",
       "           -0.08312128, -0.02810215],\n",
       "          ...,\n",
       "          [ 0.09757283, -0.12400757,  0.07179897, ..., -0.0247563 ,\n",
       "           -0.09881608,  0.01256779],\n",
       "          [ 0.02359185, -0.01411349, -0.01329406, ...,  0.06971982,\n",
       "            0.0868082 ,  0.10455269],\n",
       "          [ 0.01253667, -0.08254915, -0.12573773, ...,  0.01617607,\n",
       "           -0.1927709 ,  0.05747163]],\n",
       " \n",
       "         [[ 0.01549043, -0.10158487,  0.02409   , ..., -0.07087028,\n",
       "           -0.12985241,  0.08314551],\n",
       "          [ 0.03269005, -0.00417768, -0.02519509, ...,  0.04335866,\n",
       "           -0.00882034, -0.04078038],\n",
       "          [-0.03758426, -0.02127574,  0.0786952 , ..., -0.08967647,\n",
       "           -0.0147674 ,  0.07534071],\n",
       "          ...,\n",
       "          [ 0.12945093, -0.0656037 , -0.01568047, ..., -0.07033995,\n",
       "            0.07967903, -0.04715934],\n",
       "          [ 0.11879847,  0.13369986,  0.10842378, ..., -0.06526708,\n",
       "           -0.01281719, -0.02057766],\n",
       "          [-0.02495031, -0.068827  ,  0.05999716, ..., -0.04088515,\n",
       "           -0.09119778,  0.06172138]],\n",
       " \n",
       "         [[ 0.01580301, -0.03065574,  0.00373012, ..., -0.02402217,\n",
       "            0.05338374,  0.17039618],\n",
       "          [-0.00775599,  0.05498456,  0.02295601, ..., -0.01992995,\n",
       "            0.02123172,  0.10201647],\n",
       "          [-0.0826836 , -0.08266342, -0.08099021, ..., -0.03381221,\n",
       "            0.00015401, -0.00378017],\n",
       "          ...,\n",
       "          [ 0.07271961,  0.0570379 , -0.00179513, ..., -0.1361222 ,\n",
       "            0.00041607, -0.05865861],\n",
       "          [ 0.03510072,  0.03971056, -0.00802291, ..., -0.03518877,\n",
       "            0.0150688 ,  0.01047268],\n",
       "          [ 0.03113174,  0.00761519, -0.02395602, ..., -0.10907433,\n",
       "            0.00928719, -0.13313119]]],\n",
       " \n",
       " \n",
       "        [[[-0.03076373, -0.12560935, -0.01076654, ..., -0.04892112,\n",
       "           -0.10315524,  0.04083388],\n",
       "          [ 0.08655068, -0.13762014,  0.07332475, ..., -0.1192105 ,\n",
       "           -0.01405049, -0.16276243],\n",
       "          [-0.01702303,  0.07390723,  0.03593117, ..., -0.05727907,\n",
       "            0.02526934, -0.01256893],\n",
       "          ...,\n",
       "          [ 0.06464494, -0.09523592, -0.05554911, ..., -0.02199947,\n",
       "            0.02167851, -0.03778582],\n",
       "          [ 0.06065839,  0.06241846,  0.07987215, ...,  0.12423139,\n",
       "            0.08247437,  0.06675944],\n",
       "          [ 0.02379133, -0.01258161,  0.00228139, ..., -0.02179294,\n",
       "           -0.23905683,  0.00955971]],\n",
       " \n",
       "         [[ 0.02947822, -0.07931093, -0.02834499, ...,  0.01799514,\n",
       "           -0.0114018 ,  0.12410633],\n",
       "          [ 0.04938572, -0.06439561, -0.0611016 , ..., -0.23621699,\n",
       "            0.03628081, -0.00674421],\n",
       "          [-0.06987456, -0.00237633,  0.04741101, ...,  0.09442846,\n",
       "           -0.07681943,  0.09697767],\n",
       "          ...,\n",
       "          [ 0.06706277, -0.09114575,  0.10085713, ..., -0.06169927,\n",
       "           -0.04484546, -0.02105085],\n",
       "          [ 0.05274526,  0.10167343, -0.02084963, ..., -0.06300145,\n",
       "           -0.0005423 , -0.11752497],\n",
       "          [-0.08350904,  0.0191307 ,  0.04299137, ...,  0.11912137,\n",
       "           -0.07681026,  0.06073819]],\n",
       " \n",
       "         [[ 0.11448094, -0.06996533, -0.01303273, ..., -0.05378459,\n",
       "           -0.06135467,  0.04681209],\n",
       "          [-0.05747308, -0.07539679, -0.06776707, ..., -0.16696498,\n",
       "            0.06641068,  0.09537061],\n",
       "          [-0.03356777, -0.03529245, -0.01284985, ...,  0.03299963,\n",
       "           -0.01058203,  0.08683344],\n",
       "          ...,\n",
       "          [ 0.10187782,  0.00126443,  0.00001448, ..., -0.13878876,\n",
       "            0.04874628,  0.04388537],\n",
       "          [-0.02146363,  0.03695276, -0.02942844, ..., -0.07315142,\n",
       "           -0.03300168, -0.07210962],\n",
       "          [ 0.07109114,  0.0563937 ,  0.01930025, ..., -0.05237614,\n",
       "            0.02753086, -0.07112323]]]], dtype=float32),\n",
       " array([-0.00598986, -0.01565129,  0.03429259,  0.04741342,  0.02391385,\n",
       "        -0.03326739,  0.08555196,  0.04041461,  0.02561225,  0.06391947,\n",
       "         0.03958338, -0.0207766 ,  0.02395607,  0.00318709, -0.00987469,\n",
       "         0.02076498, -0.02936687, -0.0032182 ,  0.03163291,  0.01051548,\n",
       "         0.03551907,  0.02800598,  0.06570199,  0.07786923, -0.00294068,\n",
       "         0.00170024, -0.00965301,  0.01138584, -0.04008741, -0.03973035,\n",
       "        -0.05336431,  0.01084547,  0.07271437, -0.03582444, -0.00113707,\n",
       "         0.00923217,  0.02660668,  0.03632507, -0.01540745,  0.05909899],\n",
       "       dtype=float32)]"
      ]
     },
     "execution_count": 22,
     "metadata": {},
     "output_type": "execute_result"
    }
   ],
   "source": [
    "nmdl.layers[5].get_weights()"
   ]
  },
  {
   "cell_type": "code",
   "execution_count": 29,
   "id": "imposed-suspension",
   "metadata": {},
   "outputs": [
    {
     "name": "stdout",
     "output_type": "stream",
     "text": [
      "625/625 [==============================] - 1s 2ms/step - loss: 0.0262 - accuracy: 0.9915\n"
     ]
    },
    {
     "data": {
      "text/plain": [
       "[0.026194952428340912, 0.9915000200271606]"
      ]
     },
     "execution_count": 29,
     "metadata": {},
     "output_type": "execute_result"
    }
   ],
   "source": [
    "nmdl.evaluate(x=TestImgGenSequence(TEST_SIZE), y=None)"
   ]
  },
  {
   "cell_type": "code",
   "execution_count": null,
   "id": "russian-imagination",
   "metadata": {},
   "outputs": [],
   "source": []
  }
 ],
 "metadata": {
  "kernelspec": {
   "display_name": "p38TF",
   "language": "python",
   "name": "p38tf"
  },
  "language_info": {
   "codemirror_mode": {
    "name": "ipython",
    "version": 3
   },
   "file_extension": ".py",
   "mimetype": "text/x-python",
   "name": "python",
   "nbconvert_exporter": "python",
   "pygments_lexer": "ipython3",
   "version": "3.8.6"
  }
 },
 "nbformat": 4,
 "nbformat_minor": 5
}
