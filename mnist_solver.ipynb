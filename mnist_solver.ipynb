{
 "cells": [
  {
   "cell_type": "code",
   "execution_count": 21,
   "id": "italian-chuck",
   "metadata": {},
   "outputs": [
    {
     "name": "stdout",
     "output_type": "stream",
     "text": [
      "(60000, 28, 28) (60000,)\n"
     ]
    }
   ],
   "source": [
    "import idx2numpy\n",
    "import numpy as np\n",
    "import matplotlib.pyplot as plt\n",
    "import tensorflow as tf\n",
    "from tensorflow import keras\n",
    "import random as rand\n",
    "import cv2\n",
    "np.set_printoptions(suppress=True)\n",
    "\n",
    "x_digit = idx2numpy.convert_from_file('data/train-images-idx3-ubyte')\n",
    "y_digit = idx2numpy.convert_from_file('data/train-labels-idx1-ubyte')\n",
    "\n",
    "print(x_digit.shape, y_digit.shape)\n",
    "BATCH_SIZE = 16\n",
    "TRAIN_SIZE = 50000\n",
    "TEST_SIZE = 10000\n",
    "EPOCHS = 50\n",
    "OUTER_IMG_SZ = 28"
   ]
  },
  {
   "cell_type": "code",
   "execution_count": 22,
   "id": "essential-absolute",
   "metadata": {},
   "outputs": [],
   "source": [
    "### Generate train and test data using mnist set with GRID_SIDE digits\n",
    "GRID_SIDE = 1\n",
    "\n",
    "image_dict = [[] for i in range(10)]\n",
    "for digit,image in zip(y_digit, x_digit):\n",
    "    image_dict[digit].append(image)"
   ]
  },
  {
   "cell_type": "code",
   "execution_count": 23,
   "id": "noticed-belgium",
   "metadata": {},
   "outputs": [],
   "source": [
    "class TestImgGenSequence(keras.utils.Sequence):\n",
    "    \n",
    "    def __init__(self, length_of_set, batch_size=BATCH_SIZE):\n",
    "        self.batch_size = batch_size\n",
    "        self.length_of_set = length_of_set\n",
    "        self.epoch_count = 0.0\n",
    "    \n",
    "    def __len__(self):\n",
    "        'Denotes the number of batches per epoch 10k/128'\n",
    "        ret = self.length_of_set // self.batch_size\n",
    "        #print(\"Returning length as \" + str(ret))\n",
    "        return ret\n",
    "\n",
    "    def __getitem__(self, index):\n",
    "        'Generate one batch of data'\n",
    "        #print(\"Getting item for index \" + str(index))\n",
    "        # Generate indexes of the batch\n",
    "        #print(\"using batch_size \" + str(self.batch_size))\n",
    "        x, y = self.gen_test_data(self.batch_size)\n",
    "        #print(\"Shapes of returned \", x.shape, y.shape)\n",
    "        ys = {}\n",
    "        for op_l in range(GRID_SIDE**2):\n",
    "            ys[op_l] = y[:,op_l,:]\n",
    "        return x,ys\n",
    "    \n",
    "    def on_epoch_end(self):\n",
    "        'Updates indexes after each epoch'\n",
    "        self.epoch_count += 1.0\n",
    "        #print(\"An epoch ended >>>>>>> xxxxxxx >>>>>> qqq >>>>\")\n",
    "    \n",
    "    def gen_test_data(self, num_data):\n",
    "        x_data, y_data = np.zeros((num_data, OUTER_IMG_SZ , OUTER_IMG_SZ)), np.zeros((num_data, GRID_SIDE **2))\n",
    "        for i in range(num_data):\n",
    "            #pick a random size so that the grid is at least 70% of the overall image\n",
    "            border_sz = 0\n",
    "            digit_sz = rand.randint(OUTER_IMG_SZ//(1.4 * GRID_SIDE), OUTER_IMG_SZ//GRID_SIDE) - 2 * border_sz\n",
    "            border_digit_sz  = digit_sz + 2 * border_sz\n",
    "            grid_size = GRID_SIDE * (border_digit_sz)\n",
    "            #pick random offsets so image doesn't go off screen\n",
    "            x_offset = rand.randint(0, OUTER_IMG_SZ - grid_size)\n",
    "            y_offset = rand.randint(0, OUTER_IMG_SZ - grid_size)\n",
    "            for k in range(GRID_SIDE**2):\n",
    "                rand_digit = rand.randint(0,9)\n",
    "                rand_img = rand.choice(image_dict[rand_digit])\n",
    "                rand_img = cv2.resize(rand_img, (digit_sz, digit_sz))\n",
    "                if rand_digit == 0 : rand_img = np.zeros((digit_sz, digit_sz))\n",
    "                rand_img = cv2.copyMakeBorder(rand_img, border_sz,border_sz,border_sz,border_sz, cv2.BORDER_CONSTANT, value = [255,255,255])\n",
    "                y_data[i,k] = rand_digit\n",
    "                r = k//GRID_SIDE\n",
    "                c = k % GRID_SIDE\n",
    "                x_data[i, y_offset + r*border_digit_sz:y_offset + (r+1)*border_digit_sz, x_offset + border_digit_sz*c:x_offset + border_digit_sz*(c+1)] = rand_img\n",
    "        x_data /= 255.0\n",
    "        y_data = tf.one_hot(y_data, 10).numpy()\n",
    "        return x_data, y_data\n",
    "    "
   ]
  },
  {
   "cell_type": "code",
   "execution_count": 24,
   "id": "changing-recipe",
   "metadata": {},
   "outputs": [
    {
     "name": "stdout",
     "output_type": "stream",
     "text": [
      "(28, 28)\n"
     ]
    },
    {
     "data": {
      "image/png": "[encoded data removed]",
      "text/plain": [
       "<Figure size 432x288 with 1 Axes>"
      ]
     },
     "metadata": {
      "needs_background": "light"
     },
     "output_type": "display_data"
    },
    {
     "data": {
      "image/png": "[encoded data removed]",
      "text/plain": [
       "<Figure size 432x288 with 1 Axes>"
      ]
     },
     "metadata": {
      "needs_background": "light"
     },
     "output_type": "display_data"
    }
   ],
   "source": [
    "gen = TestImgGenSequence(1)\n",
    "x,y = gen.gen_test_data(2)\n",
    "print(x[0].shape)\n",
    "plt.imshow(x[0])\n",
    "plt.show()\n",
    "plt.imshow(x[1])\n",
    "img1, img2 = x"
   ]
  },
  {
   "cell_type": "code",
   "execution_count": 25,
   "id": "robust-abuse",
   "metadata": {},
   "outputs": [
    {
     "name": "stdout",
     "output_type": "stream",
     "text": [
      "(28, 28, 1)\n"
     ]
    },
    {
     "data": {
      "text/plain": [
       "<matplotlib.image.AxesImage at 0x145e2ea90>"
      ]
     },
     "execution_count": 25,
     "metadata": {},
     "output_type": "execute_result"
    },
    {
     "data": {
      "image/png": "[encoded data removed]",
      "text/plain": [
       "<Figure size 432x288 with 1 Axes>"
      ]
     },
     "metadata": {
      "needs_background": "light"
     },
     "output_type": "display_data"
    }
   ],
   "source": [
    "fimg = img2.reshape(28, 28,1)\n",
    "dgen = tf.keras.preprocessing.image.ImageDataGenerator()\n",
    "iim = dgen.apply_transform(fimg, {'shear':1, 'zx':1.2, 'zy':0.9})\n",
    "print(iim.shape)\n",
    "plt.imshow(iim)"
   ]
  },
  {
   "cell_type": "code",
   "execution_count": 26,
   "id": "hairy-yukon",
   "metadata": {
    "scrolled": false
   },
   "outputs": [
    {
     "name": "stdout",
     "output_type": "stream",
     "text": [
      "Model: \"digit_recognizer\"\n",
      "_________________________________________________________________\n",
      "Layer (type)                 Output Shape              Param #   \n",
      "=================================================================\n",
      "input_4 (InputLayer)         [(None, 28, 28, 1)]       0         \n",
      "_________________________________________________________________\n",
      "conv2d_18 (Conv2D)           (None, 14, 14, 14)        70        \n",
      "_________________________________________________________________\n",
      "conv2d_19 (Conv2D)           (None, 14, 14, 28)        1596      \n",
      "_________________________________________________________________\n",
      "max_pooling2d_9 (MaxPooling2 (None, 7, 7, 28)          0         \n",
      "_________________________________________________________________\n",
      "conv2d_20 (Conv2D)           (None, 7, 7, 42)          4746      \n",
      "_________________________________________________________________\n",
      "conv2d_21 (Conv2D)           (None, 7, 7, 56)          9464      \n",
      "_________________________________________________________________\n",
      "max_pooling2d_10 (MaxPooling (None, 3, 3, 56)          0         \n",
      "_________________________________________________________________\n",
      "conv2d_22 (Conv2D)           (None, 3, 3, 56)          12600     \n",
      "_________________________________________________________________\n",
      "conv2d_23 (Conv2D)           (None, 3, 3, 70)          15750     \n",
      "_________________________________________________________________\n",
      "max_pooling2d_11 (MaxPooling (None, 1, 1, 70)          0         \n",
      "_________________________________________________________________\n",
      "flatten_3 (Flatten)          (None, 70)                0         \n",
      "_________________________________________________________________\n",
      "output_digit_0 (Dense)       (None, 10)                710       \n",
      "=================================================================\n",
      "Total params: 44,936\n",
      "Trainable params: 44,936\n",
      "Non-trainable params: 0\n",
      "_________________________________________________________________\n"
     ]
    }
   ],
   "source": [
    "act = 'relu'\n",
    "pad = 'same'\n",
    "strd = 1\n",
    "input_layer = tf.keras.Input(shape = (OUTER_IMG_SZ, OUTER_IMG_SZ,1))\n",
    "_ = tf.keras.layers.Conv2D(filters=14, kernel_size=2, activation = act, padding = pad, strides=2)(input_layer)\n",
    "_ = tf.keras.layers.Conv2D(filters=14*2, kernel_size=2, activation = act, padding = pad, strides=strd)(_) \n",
    "_ = tf.keras.layers.MaxPool2D()(_)\n",
    "_ = tf.keras.layers.Conv2D(filters=14*3, kernel_size=2, activation = act, padding = pad, strides = strd)(_) \n",
    "_ = tf.keras.layers.Conv2D(filters=14*4, kernel_size=2, activation = act, padding = pad, strides = strd)(_) \n",
    "_ = tf.keras.layers.MaxPool2D()(_)\n",
    "_ = tf.keras.layers.Conv2D(filters=14*4, kernel_size=2, activation = act, padding = pad, strides = strd)(_) \n",
    "_ = tf.keras.layers.Conv2D(filters=14*5, kernel_size=2, activation = act, padding = pad, strides = strd)(_) \n",
    "_ = tf.keras.layers.MaxPool2D()(_) \n",
    "common_layer = tf.keras.layers.Flatten()(_)\n",
    "#One output layer per digit\n",
    "output_layers = {}\n",
    "output_loss_fns = {}\n",
    "output_metrics = {}\n",
    "for op_l in range(GRID_SIDE ** 2):\n",
    "    layer_name = \"output_digit_\" + str(op_l)\n",
    "    output_layers[op_l] = tf.keras.layers.Dense(10, activation = 'softmax', name=layer_name)(common_layer)\n",
    "    output_loss_fns[op_l] = tf.keras.losses.CategoricalCrossentropy()\n",
    "    output_metrics[op_l] = 'accuracy'\n",
    "\n",
    "model = tf.keras.Model(inputs=input_layer, outputs = output_layers, name=\"digit_recognizer\")\n",
    "model.compile(optimizer=tf.keras.optimizers.Adamax(),\n",
    "             loss = output_loss_fns,\n",
    "             metrics = ['accuracy'] )\n",
    "model.summary()"
   ]
  },
  {
   "cell_type": "code",
   "execution_count": 27,
   "id": "contemporary-cattle",
   "metadata": {},
   "outputs": [],
   "source": [
    "training_gen = TestImgGenSequence(TRAIN_SIZE)\n",
    "validation_gen = TestImgGenSequence(TEST_SIZE)"
   ]
  },
  {
   "cell_type": "code",
   "execution_count": null,
   "id": "familiar-future",
   "metadata": {
    "scrolled": false
   },
   "outputs": [
    {
     "name": "stdout",
     "output_type": "stream",
     "text": [
      "Epoch 1/50\n",
      "3125/3125 [==============================] - 8s 2ms/step - loss: 0.9694 - accuracy: 0.6739\n",
      "Epoch 2/50\n",
      "3125/3125 [==============================] - 7s 2ms/step - loss: 0.1983 - accuracy: 0.9374\n",
      "Epoch 3/50\n",
      "3125/3125 [==============================] - 8s 3ms/step - loss: 0.1303 - accuracy: 0.9596\n",
      "Epoch 4/50\n",
      "3125/3125 [==============================] - 8s 3ms/step - loss: 0.1067 - accuracy: 0.9656\n",
      "Epoch 5/50\n",
      "3125/3125 [==============================] - 8s 3ms/step - loss: 0.0950 - accuracy: 0.9710\n",
      "Epoch 6/50\n",
      "3125/3125 [==============================] - 9s 3ms/step - loss: 0.0802 - accuracy: 0.9760\n",
      "Epoch 7/50\n",
      "3125/3125 [==============================] - 8s 3ms/step - loss: 0.0765 - accuracy: 0.9754\n",
      "Epoch 8/50\n",
      "3125/3125 [==============================] - 8s 3ms/step - loss: 0.0680 - accuracy: 0.9784\n",
      "Epoch 9/50\n",
      "3125/3125 [==============================] - 8s 3ms/step - loss: 0.0574 - accuracy: 0.9819\n",
      "Epoch 10/50\n",
      "1519/3125 [=============>................] - ETA: 4s - loss: 0.0608 - accuracy: 0.9807"
     ]
    }
   ],
   "source": [
    "%%time\n",
    "\n",
    "model.fit(x = training_gen, epochs=EPOCHS, batch_size=BATCH_SIZE, verbose=1)"
   ]
  },
  {
   "cell_type": "code",
   "execution_count": 9,
   "id": "progressive-garden",
   "metadata": {},
   "outputs": [
    {
     "name": "stdout",
     "output_type": "stream",
     "text": [
      "19/19 [==============================] - 0s 11ms/step - loss: 0.1073 - accuracy: 0.9655\n"
     ]
    },
    {
     "data": {
      "text/plain": [
       "[0.10734924674034119, 0.9654605388641357]"
      ]
     },
     "execution_count": 9,
     "metadata": {},
     "output_type": "execute_result"
    }
   ],
   "source": [
    "model.evaluate(x=validation_gen, y=None)"
   ]
  }
 ],
 "metadata": {
  "kernelspec": {
   "display_name": "p38TF",
   "language": "python",
   "name": "p38tf"
  },
  "language_info": {
   "codemirror_mode": {
    "name": "ipython",
    "version": 3
   },
   "file_extension": ".py",
   "mimetype": "text/x-python",
   "name": "python",
   "nbconvert_exporter": "python",
   "pygments_lexer": "ipython3",
   "version": "3.8.6"
  }
 },
 "nbformat": 4,
 "nbformat_minor": 5
}
