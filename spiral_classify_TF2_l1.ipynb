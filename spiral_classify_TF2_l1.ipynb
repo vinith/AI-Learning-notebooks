{
 "cells": [
  {
   "cell_type": "code",
   "execution_count": 112,
   "id": "amber-recipe",
   "metadata": {},
   "outputs": [],
   "source": [
    "import numpy as np\n",
    "import matplotlib.pyplot as plt\n",
    "import pandas as pd\n",
    "import tensorflow as tf"
   ]
  },
  {
   "cell_type": "code",
   "execution_count": 113,
   "id": "laughing-stage",
   "metadata": {},
   "outputs": [
    {
     "name": "stdout",
     "output_type": "stream",
     "text": [
      "                  x             y         label\n",
      "count  14000.000000  14000.000000  14000.000000\n",
      "mean      -0.010116      0.005352      0.500000\n",
      "std       13.539397     12.636182      0.500018\n",
      "min      -27.884810    -22.812340      0.000000\n",
      "25%      -11.771318    -10.172757      0.000000\n",
      "50%       -0.034515      0.037095      0.500000\n",
      "75%       11.679663     10.177385      1.000000\n",
      "max       28.481390     23.122050      1.000000\n",
      "(14000, 2) (14000, 1) (14000, 2)\n"
     ]
    }
   ],
   "source": [
    "df = pd.read_csv('data/spirals.csv')\n",
    "print(df.describe())\n",
    "\n",
    "y_t = df[['label']].to_numpy(dtype=int)\n",
    "x = df[['x','y']].to_numpy(dtype='float32')\n",
    "\n",
    "\n",
    "y = tf.one_hot(y_t, 2).numpy().reshape(y_t.shape[0], 2)\n",
    "\n",
    "print(x.shape, y_t.shape, y.shape)"
   ]
  },
  {
   "cell_type": "code",
   "execution_count": 157,
   "id": "stylish-helping",
   "metadata": {},
   "outputs": [],
   "source": [
    "nn_dims = [x.shape[1], 16, 2]\n",
    "\n",
    "input_layer = tf.keras.layers.InputLayer(input_shape=(2,))\n",
    "hidden_layers = [tf.keras.layers.Dense(12, activation = 'relu')]\n",
    "output_layer = tf.keras.layers.Dense(2, activation='softmax')\n",
    "\n",
    "layers = [input_layer]\n",
    "for layer in hidden_layers: layers.append(layer)\n",
    "layers.append(output_layer)\n",
    "\n",
    "model = tf.keras.models.Sequential(layers)\n",
    "\n",
    "loss_fn = tf.keras.losses.CategoricalCrossentropy()\n",
    "\n",
    "model.compile(loss = loss_fn, metrics = ['accuracy'])"
   ]
  },
  {
   "cell_type": "code",
   "execution_count": 158,
   "id": "entertaining-answer",
   "metadata": {},
   "outputs": [
    {
     "name": "stdout",
     "output_type": "stream",
     "text": [
      "Epoch 1/10\n",
      "438/438 [==============================] - 0s 305us/step - loss: 1.5404 - accuracy: 0.6579\n",
      "Epoch 2/10\n",
      "438/438 [==============================] - 0s 291us/step - loss: 0.4169 - accuracy: 0.7647\n",
      "Epoch 3/10\n",
      "438/438 [==============================] - 0s 288us/step - loss: 0.3698 - accuracy: 0.7997\n",
      "Epoch 4/10\n",
      "438/438 [==============================] - 0s 286us/step - loss: 0.3133 - accuracy: 0.8488\n",
      "Epoch 5/10\n",
      "438/438 [==============================] - 0s 285us/step - loss: 0.2400 - accuracy: 0.9237\n",
      "Epoch 6/10\n",
      "438/438 [==============================] - 0s 286us/step - loss: 0.1806 - accuracy: 0.9709\n",
      "Epoch 7/10\n",
      "438/438 [==============================] - 0s 285us/step - loss: 0.1222 - accuracy: 0.9839\n",
      "Epoch 8/10\n",
      "438/438 [==============================] - 0s 283us/step - loss: 0.0873 - accuracy: 0.9873\n",
      "Epoch 9/10\n",
      "438/438 [==============================] - 0s 308us/step - loss: 0.0648 - accuracy: 0.9888\n",
      "Epoch 10/10\n",
      "438/438 [==============================] - 0s 298us/step - loss: 0.0450 - accuracy: 0.9919\n"
     ]
    },
    {
     "data": {
      "text/plain": [
       "<tensorflow.python.keras.callbacks.History at 0x17779dbe0>"
      ]
     },
     "execution_count": 158,
     "metadata": {},
     "output_type": "execute_result"
    }
   ],
   "source": [
    "model.fit(x, y, epochs=10)"
   ]
  },
  {
   "cell_type": "code",
   "execution_count": 107,
   "id": "southwest-fraud",
   "metadata": {},
   "outputs": [
    {
     "data": {
      "text/plain": [
       "(<tf.Tensor: shape=(10, 2), dtype=float32, numpy=\n",
       " array([[1.3516279e-11, 1.0000000e+00],\n",
       "        [1.0349203e-23, 1.0000000e+00],\n",
       "        [1.7053528e-14, 1.0000000e+00],\n",
       "        [8.4908192e-21, 1.0000000e+00],\n",
       "        [2.4438067e-18, 1.0000000e+00],\n",
       "        [2.9336940e-17, 1.0000000e+00],\n",
       "        [1.0000000e+00, 1.5946795e-19],\n",
       "        [1.0000000e+00, 1.2606518e-14],\n",
       "        [2.2547920e-21, 1.0000000e+00],\n",
       "        [3.4696020e-18, 1.0000000e+00]], dtype=float32)>,\n",
       " '\\n\\n\\n',\n",
       " array([[1],\n",
       "        [1],\n",
       "        [1],\n",
       "        [1],\n",
       "        [1],\n",
       "        [1],\n",
       "        [0],\n",
       "        [0],\n",
       "        [1],\n",
       "        [1]]))"
      ]
     },
     "execution_count": 107,
     "metadata": {},
     "output_type": "execute_result"
    }
   ],
   "source": [
    "model(x[:10]), '\\n\\n\\n', y[:10]"
   ]
  }
 ],
 "metadata": {
  "kernelspec": {
   "display_name": "p38TF",
   "language": "python",
   "name": "p38tf"
  },
  "language_info": {
   "codemirror_mode": {
    "name": "ipython",
    "version": 3
   },
   "file_extension": ".py",
   "mimetype": "text/x-python",
   "name": "python",
   "nbconvert_exporter": "python",
   "pygments_lexer": "ipython3",
   "version": "3.8.6"
  }
 },
 "nbformat": 4,
 "nbformat_minor": 5
}
