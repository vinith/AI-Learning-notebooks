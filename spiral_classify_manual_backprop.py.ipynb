{
 "cells": [
  {
   "cell_type": "code",
   "execution_count": 251,
   "id": "metric-shelter",
   "metadata": {},
   "outputs": [],
   "source": [
    "import numpy as np\n",
    "import matplotlib.pyplot as plt\n",
    "import pandas as pd"
   ]
  },
  {
   "cell_type": "code",
   "execution_count": 288,
   "id": "entertaining-count",
   "metadata": {},
   "outputs": [
    {
     "name": "stdout",
     "output_type": "stream",
     "text": [
      "                  x             y         label\n",
      "count  14000.000000  14000.000000  14000.000000\n",
      "mean      -0.010116      0.005352      0.500000\n",
      "std       13.539397     12.636182      0.500018\n",
      "min      -27.884810    -22.812340      0.000000\n",
      "25%      -11.771318    -10.172757      0.000000\n",
      "50%       -0.034515      0.037095      0.500000\n",
      "75%       11.679663     10.177385      1.000000\n",
      "max       28.481390     23.122050      1.000000\n",
      "(2, 14000) (2, 14000)\n"
     ]
    }
   ],
   "source": [
    "df = pd.read_csv('data/spirals.csv')\n",
    "print(df.describe())\n",
    "y_data = df[['label']].to_numpy(dtype=int).T\n",
    "#one hot for softmax (we don't need softmax for binary classification, but this is just for practice)\n",
    "y = np.concatenate((y_data==0, y_data==1)).reshape(2, y_data.shape[1]) * 1\n",
    "x = df[['x','y']].to_numpy(dtype='float32').T\n",
    "print(x.shape, y.shape)\n",
    "#print(x, '\\n\\n',y)"
   ]
  },
  {
   "cell_type": "code",
   "execution_count": 281,
   "id": "cardiovascular-ribbon",
   "metadata": {},
   "outputs": [
    {
     "data": {
      "text/plain": [
       "<matplotlib.collections.PathCollection at 0x10c36f6d0>"
      ]
     },
     "execution_count": 281,
     "metadata": {},
     "output_type": "execute_result"
    },
    {
     "data": {
      "image/png": "[encoded data removed]",
      "text/plain": [
       "<Figure size 432x288 with 1 Axes>"
      ]
     },
     "metadata": {
      "needs_background": "light"
     },
     "output_type": "display_data"
    }
   ],
   "source": [
    "plt.scatter(x[0], x[1], c=y_data, cmap='winter')"
   ]
  },
  {
   "cell_type": "code",
   "execution_count": 359,
   "id": "behind-challenge",
   "metadata": {},
   "outputs": [],
   "source": [
    "nn_dims = [x.shape[0] , 12, 2]\n",
    "W = {}\n",
    "B = {}\n",
    "\n",
    "def relu(X):\n",
    "    return np.maximum(X, 0)\n",
    "\n",
    "def softmax(X):\n",
    "    #print(X.shape)\n",
    "    den = np.sum(np.exp(X), axis=0)\n",
    "    return np.divide(np.exp(X), den)\n",
    "\n",
    "def init_params():\n",
    "    for l in range(1, len(nn_dims)):\n",
    "        W[l] = np.random.randn(nn_dims[l], nn_dims[l-1]) * 0.01\n",
    "        B[l] = np.zeros((nn_dims[l], 1))\n",
    "\n",
    "def compute_cost(Y, Yhat):\n",
    "    #print(Y.shape, Yhat.shape)\n",
    "    cost = -1/Y.shape[1] * np.sum(np.multiply(Y, np.log(Yhat)))\n",
    "    return cost\n",
    "\n",
    "def calc_accuracy(Y, Yhat):\n",
    "    return np.sum((Y == Yhat) * 1)/(2*np.sum(Y.shape))\n",
    "\n",
    "def forward_backward_pass(X, Y, W, B, learning_rate, numitr, print_cost):\n",
    "    Yhat = 0\n",
    "    for itrs in range(numitr):\n",
    "        ##forward pass\n",
    "        m = X.shape[1]\n",
    "        A = {0: X}\n",
    "        Z = {}\n",
    "        for l in range(1, len(nn_dims)):\n",
    "            if print_cost: print(\"\\n\\nOperating on layer \" + str(l) + \" forward pass of size \", nn_dims[l],'\\n\\n\\n', A[l-1])\n",
    "            Z[l] = np.dot(W[l], A[l-1]) + B[l]\n",
    "            if print_cost: print(\"\\n\\n Z value is \", Z[l])\n",
    "            if l == len(nn_dims) -1:\n",
    "                Yhat = softmax(Z[l])\n",
    "                if print_cost: print(\"\\n\\nSoftmax layer \", Yhat)\n",
    "                A[l] = Yhat\n",
    "            else:\n",
    "                A[l] = relu(Z[l])\n",
    "                if print_cost: print(\"\\n\\nRelu layer\", A[l])\n",
    "                \n",
    "        cost = compute_cost(Y, Yhat)\n",
    "        if itrs % 1000 == 0 or print_cost: print(\"Iteration: \" + str(itrs) + \" Cost: \" + str(cost))\n",
    "            \n",
    "        ##backward pass\n",
    "        activation_derv = 0\n",
    "        propogated_derv = 1\n",
    "        for l in range(len(nn_dims)-1, 0,-1):\n",
    "            if print_cost: print(\"\\n\\nOperating on layer \" + str(l) + \" backward pass of size \", nn_dims[l])\n",
    "            if l == len(nn_dims)-1:\n",
    "                ##softmax derivative\n",
    "                activation_derv = A[l] - Y\n",
    "                if print_cost: print(\"\\n\\nSoftmax layer \", activation_derv)\n",
    "            else:\n",
    "                ##relu derivative\n",
    "                activation_derv = (Z[l] > 0) * 1\n",
    "                if print_cost: print(\"\\n\\nRelu layer \", activation_derv)\n",
    "\n",
    "            dZ = np.multiply(propogated_derv, activation_derv)\n",
    "            dW = 1/m * np.dot(dZ, A[l-1].T)\n",
    "            dB = 1/m * (np.sum(dZ,axis=1, keepdims=True))\n",
    "            W[l] = W[l] - learning_rate * dW\n",
    "            B[l] = B[l] - learning_rate * dB\n",
    "            propogated_derv = np.dot(W[l].T, dZ)\n",
    "    print(\"\\n\\nAccuracy: \" + str(calc_accuracy(Y, (Yhat>=0.5) * 1.0)))\n",
    "    return cost"
   ]
  },
  {
   "cell_type": "code",
   "execution_count": 360,
   "id": "designing-nudist",
   "metadata": {
    "scrolled": false
   },
   "outputs": [
    {
     "name": "stdout",
     "output_type": "stream",
     "text": [
      "Iteration: 0 Cost: 0.6918983335307268\n",
      "Iteration: 1000 Cost: 0.45249290796714847\n",
      "Iteration: 2000 Cost: 0.33022504629177474\n",
      "Iteration: 3000 Cost: 0.12522191425897938\n",
      "Iteration: 4000 Cost: 0.05687645209292623\n",
      "Iteration: 5000 Cost: 0.034448959469213204\n",
      "Iteration: 6000 Cost: 0.024698364104096985\n",
      "Iteration: 7000 Cost: 0.019523290656544786\n",
      "Iteration: 8000 Cost: 0.01639271801171173\n",
      "Iteration: 9000 Cost: 0.014313266934751746\n",
      "\n",
      "\n",
      "Accuracy: 0.9980002856734752\n"
     ]
    },
    {
     "data": {
      "text/plain": [
       "0.01284154005200902"
      ]
     },
     "execution_count": 360,
     "metadata": {},
     "output_type": "execute_result"
    }
   ],
   "source": [
    "init_params()\n",
    "forward_backward_pass(x, y, W, B, 0.03, 10000, False)"
   ]
  },
  {
   "cell_type": "code",
   "execution_count": null,
   "id": "proof-controversy",
   "metadata": {},
   "outputs": [],
   "source": []
  }
 ],
 "metadata": {
  "kernelspec": {
   "display_name": "p38TF",
   "language": "python",
   "name": "p38tf"
  },
  "language_info": {
   "codemirror_mode": {
    "name": "ipython",
    "version": 3
   },
   "file_extension": ".py",
   "mimetype": "text/x-python",
   "name": "python",
   "nbconvert_exporter": "python",
   "pygments_lexer": "ipython3",
   "version": "3.8.6"
  }
 },
 "nbformat": 4,
 "nbformat_minor": 5
}
